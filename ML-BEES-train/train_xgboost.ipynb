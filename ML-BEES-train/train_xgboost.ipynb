{
 "cells": [
  {
   "cell_type": "markdown",
   "metadata": {},
   "source": [
    "# Training XGBoost to Emulate ec-land\n",
    "\n",
    "In this notebook we take some example Zarr data (similar to that created by this projects other functionality) and train an ML emulator of the ec-land land surface model. Here we are training on features of climatological, meteorological and previous model state values to predict the 6-hourly model state update "
   ]
  },
  {
   "cell_type": "code",
   "execution_count": null,
   "metadata": {
    "tags": []
   },
   "outputs": [],
   "source": [
    "import xgboost as xgb\n",
    "import numpy as np\n",
    "from sklearn.metrics import mean_squared_error\n",
    "\n",
    "from dataset import EcDataset"
   ]
  },
  {
   "cell_type": "markdown",
   "metadata": {},
   "source": [
    "## Settings"
   ]
  },
  {
   "cell_type": "code",
   "execution_count": null,
   "metadata": {},
   "outputs": [],
   "source": [
    "path = \"/data/ecland_i6aj_o400_2010_2022_6h_euro.zarr\"\n",
    "n_estimators = 50\n",
    "spatial_encoding = True"
   ]
  },
  {
   "cell_type": "markdown",
   "metadata": {},
   "source": [
    "## Datasets"
   ]
  },
  {
   "cell_type": "code",
   "execution_count": null,
   "metadata": {},
   "outputs": [],
   "source": [
    "ds_train = EcDataset(path, \"2018\", \"2019\", spatial_encoding, temporal_encoding)\n",
    "ds_val = EcDataset(path, \"2020\", \"2020\", spatial_encoding, temporal_encoding)\n",
    "\n",
    "train_feats, train_targets = ds_train.feats, ds_train.targets\n",
    "val_feats, val_targets = ds_val.feats, ds_val.targets\n",
    "\n",
    "# Normalization\n",
    "train_feats = EcDataset.transform(train_feats, ds_train.feat_means[None,:], ds_train.feat_stdevs[None,:])\n",
    "train_targets = EcDataset.transform(train_targets, ds_train.target_means[None,:], ds_train.target_stdevs[None,:])\n",
    "val_feats = EcDataset.transform(val_feats, ds_val.feat_means[None,:], ds_val.feat_stdevs[None,:])\n",
    "val_targets = EcDataset.transform(val_targets, ds_val.target_means[None,:], ds_val.target_stdevs[None,:])\n",
    "\n",
    "print(train_feats.shape, train_targets.shape)\n",
    "print(val_feats.shape, val_targets.shape)"
   ]
  },
  {
   "cell_type": "markdown",
   "metadata": {},
   "source": [
    "## Model training with XGBoost\n",
    "\n",
    "Now we have our \"features\" and \"targets\" we can train xgboost to predict our model increments."
   ]
  },
  {
   "cell_type": "code",
   "execution_count": null,
   "metadata": {
    "tags": []
   },
   "outputs": [],
   "source": [
    "def mse(y_pred: np.ndarray, y_true: np.ndarray) -> float:\n",
    "    return mean_squared_error(y_pred.flatten(), y_true.flatten())\n",
    "\n",
    "model = xgb.XGBRegressor(\n",
    "    n_estimators=n_estimators,\n",
    "    tree_method=\"hist\",\n",
    "    device=\"cuda\",\n",
    "    objevtive=mse,\n",
    ")\n",
    "fname = \"./test.json\"\n",
    "\n",
    "print(\"Fitting XGB model...\")\n",
    "\n",
    "# At once\n",
    "model.fit(train_feats, train_targets, eval_set=[(val_feats, val_targets)])\n",
    "model.save_model(fname)\n",
    "y_val_pred = model.predict(val_feats)\n",
    "val_mse = mse(y_val_pred, val_targets)\n",
    "print(f\"Validation MSE = {val_mse}\")\n",
    "\n",
    "# # Incremental (doesnt work!)\n",
    "# batch_size = 20000\n",
    "# i = 0\n",
    "# val_mse_curr = float('inf')\n",
    "# while True:\n",
    "#     idxs = np.random.choice(n_train, batch_size, replace=False)\n",
    "#     X_batch = X_train[idxs]\n",
    "#     y_batch = y_train[idxs]\n",
    "#     model.fit(X_batch, y_batch, eval_set=[(X_batch, y_batch)], xgb_model=fname if i>0 else None, verbose=False)\n",
    "#     model.save_model(fname)\n",
    "#     y_val_pred = model.predict(X_val)\n",
    "#     if i%5 == 0:\n",
    "#         val_mse = mse(y_val_pred, y_val)\n",
    "#         print(f\"Epoch {i}: Validation MSE = {val_mse}\")\n",
    "#         if val_mse < val_mse_curr:\n",
    "#             val_mse_curr = val_mse\n",
    "#             i+=1\n",
    "#         else:\n",
    "#             break\n",
    "\n",
    "print(\"Finished training\")"
   ]
  }
 ],
 "metadata": {
  "kernelspec": {
   "display_name": "ailand",
   "language": "python",
   "name": "ailand"
  },
  "language_info": {
   "codemirror_mode": {
    "name": "ipython",
    "version": 3
   },
   "file_extension": ".py",
   "mimetype": "text/x-python",
   "name": "python",
   "nbconvert_exporter": "python",
   "pygments_lexer": "ipython3",
   "version": "3.12.3"
  }
 },
 "nbformat": 4,
 "nbformat_minor": 4
}
