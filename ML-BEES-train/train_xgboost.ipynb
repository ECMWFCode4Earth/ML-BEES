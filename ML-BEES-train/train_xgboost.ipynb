{
 "cells": [
  {
   "cell_type": "markdown",
   "metadata": {},
   "source": [
    "# Training XGBoost to Emulate ec-land\n",
    "\n",
    "In this notebook we take some example Zarr data (similar to that created by this projects other functionality) and train an ML emulator of the ec-land land surface model. Here we are training on features of climatological, meteorological and previous model state values to predict the 6-hourly model state update "
   ]
  },
  {
   "cell_type": "code",
   "execution_count": null,
   "metadata": {
    "tags": []
   },
   "source": [
    "import os\n",
    "import yaml\n",
    "\n",
    "import numpy as np\n",
    "import matplotlib.pyplot as plt\n",
    "import torch\n",
    "import xgboost as xgb\n",
    "from tqdm import tqdm\n",
    "from sklearn.metrics import mean_squared_error, r2_score, mean_absolute_error\n",
    "\n",
    "from dataset.EclandPointDataset import EcDataset"
   ],
   "outputs": []
  },
  {
   "cell_type": "markdown",
   "metadata": {},
   "source": [
    "## Settings"
   ]
  },
  {
   "cell_type": "code",
   "execution_count": null,
   "metadata": {},
   "source": [
    "# data_path = \"/data/ecland_i6aj_o400_2010_2022_6h_euro.zarr\" # On ECMWF instance\n",
    "data_path = \"../data/ecland_i6aj_o400_2010_2022_6h_euro.zarr\"\n",
    "model_path = \"../models/euro_xgb_train_2010_2019_val_2020_2020_diagnostic_v2.json\"\n",
    "spatial_encoding = False\n",
    "temporal_encoding = False\n",
    "\n",
    "with open('configs/config.yaml') as stream:\n",
    "    try:\n",
    "        CONFIG = yaml.safe_load(stream)\n",
    "    except yaml.YAMLError as exc:\n",
    "        print(exc)"
   ],
   "outputs": []
  },
  {
   "cell_type": "markdown",
   "metadata": {},
   "source": [
    "## Datasets\n",
    "\n",
    "All training and validation data are loaded into memory."
   ]
  },
  {
   "cell_type": "code",
   "execution_count": null,
   "metadata": {},
   "source": [
    "def load_all_data(ds):\n",
    "\n",
    "    x_met, x_state, y_state_inc, y_diag, x_clim, x_time = [], [], [], [], [], []\n",
    "    for i in tqdm(range(len(ds)), desc=\"Loading dataset...\"):\n",
    "        x_met_i, x_state_i, y_state_inc_i, y_diag_i, x_clim_i, x_time_i = ds[i]\n",
    "        x_met.append(torch.tensor(x_met_i).squeeze())\n",
    "        x_state.append(torch.tensor(x_state_i).squeeze())\n",
    "        y_state_inc.append(torch.tensor(y_state_inc_i).squeeze())\n",
    "        y_diag.append(torch.tensor(y_diag_i).squeeze())\n",
    "        x_clim.append(torch.tensor(x_clim_i).squeeze())\n",
    "        x_time.append(torch.tensor(x_time_i).repeat(x_met_i.shape[1], 1))\n",
    "\n",
    "    return torch.cat(x_met), torch.cat(x_state), torch.cat(y_state_inc), torch.cat(y_diag), torch.cat(x_clim), torch.cat(x_time)\n",
    "\n",
    "ds_train = EcDataset(\n",
    "    start_year = 2010, \n",
    "    end_year = 2019, \n",
    "    root = data_path, \n",
    "    roll_out = 1, \n",
    "    clim_features=CONFIG[\"clim_feats\"],\n",
    "    dynamic_features=CONFIG[\"dynamic_feats\"],\n",
    "    target_prog_features=CONFIG[\"targets_prog\"],\n",
    "    target_diag_features=CONFIG[\"targets_diag\"],\n",
    "    is_add_lat_lon = spatial_encoding, \n",
    "    is_norm = True, \n",
    "    point_dropout = 0.0\n",
    ")\n",
    "x_met, x_state, y_state_inc, y_diag, x_clim, x_time = load_all_data(ds_train)\n",
    "X_train = torch.cat((x_met, x_state, x_clim, x_time), dim=1) if temporal_encoding else torch.cat((x_met, x_state, x_clim), dim=1)\n",
    "y_train = torch.cat((y_state_inc, y_diag), dim=1)\n",
    "\n",
    "# print(torch.any(torch.isnan()))\n",
    "\n",
    "ds_val = EcDataset(\n",
    "    start_year = 2020, \n",
    "    end_year = 2020, \n",
    "    root = data_path, \n",
    "    roll_out = 1, \n",
    "    clim_features=CONFIG[\"clim_feats\"],\n",
    "    dynamic_features=CONFIG[\"dynamic_feats\"],\n",
    "    target_prog_features=CONFIG[\"targets_prog\"],\n",
    "    target_diag_features=CONFIG[\"targets_diag\"],\n",
    "    is_add_lat_lon = spatial_encoding, \n",
    "    is_norm = True, \n",
    "    point_dropout = 0.0\n",
    ")\n",
    "x_met, x_state, y_state_inc, y_diag, x_clim, x_time = load_all_data(ds_val)\n",
    "X_val = torch.cat((x_met, x_state, x_clim, x_time), dim=1) if temporal_encoding else torch.cat((x_met, x_state, x_clim), dim=1)\n",
    "y_val = torch.cat((y_state_inc, y_diag), dim=1)\n",
    "\n",
    "print(X_train.shape, y_train.shape, X_val.shape, y_val.shape)"
   ],
   "outputs": []
  },
  {
   "cell_type": "markdown",
   "metadata": {},
   "source": [
    "## Model training with XGBoost\n",
    "\n",
    "Now we have our \"features\" and \"targets\" we can train xgboost to predict our model increments."
   ]
  },
  {
   "cell_type": "code",
   "execution_count": null,
   "metadata": {
    "tags": []
   },
   "source": [
    "model = xgb.XGBRegressor(\n",
    "    n_estimators=1000,\n",
    "    tree_method=\"hist\",\n",
    "    # device=\"cuda\",\n",
    "    device=\"cpu\",\n",
    ")\n",
    "\n",
    "print(\"Fitting XGB model...\")\n",
    "model.fit(X_train, y_train, eval_set=[(X_train, y_train), (X_val, y_val)])\n",
    "model.save_model(model_path)\n",
    "print(\"Finished training\")\n",
    "\n",
    "results = model.evals_result()\n",
    "plt.figure(figsize=(10,7))\n",
    "plt.plot(results[\"validation_0\"][\"rmse\"], label=\"Training loss\")\n",
    "plt.plot(results[\"validation_1\"][\"rmse\"], label=\"Validation loss\")\n",
    "plt.xlabel(\"Number of trees\")\n",
    "plt.ylabel(\"Loss\")\n",
    "plt.legend()\n",
    "\n",
    "del X_train, y_train"
   ],
   "outputs": []
  },
  {
   "cell_type": "markdown",
   "metadata": {},
   "source": [
    "## Quick evaluation\n",
    "\n",
    "Compute some basic metrics on the validation and test datasets. Since the dataset values are standardized, the magnitude of these results is not really meaningful and only meant to be used for preliminary comparison of different models."
   ]
  },
  {
   "cell_type": "code",
   "execution_count": null,
   "metadata": {},
   "source": [
    "def rmse(y_pred, y_true):\n",
    "    return mean_squared_error(y_pred.flatten(), y_true.flatten(), squared=False)\n",
    "\n",
    "def r2(y_pred, y_true):\n",
    "    return r2_score(y_true.flatten(), y_pred.flatten())\n",
    "\n",
    "def mae(y_pred, y_true):\n",
    "    return mean_absolute_error(y_pred.flatten(), y_true.flatten())\n",
    "\n",
    "# Results on validation set\n",
    "y_val_pred = model.predict(X_val)\n",
    "# print(y_val_pred.dtype, y_val.dtype)\n",
    "val_rmse = rmse(y_val_pred, y_val.numpy())\n",
    "val_r2 = r2(y_val_pred, y_val.numpy())\n",
    "val_mae = mae(y_val_pred, y_val.numpy())\n",
    "print(f\"Validation: RMSE = {val_rmse}, R2 = {val_r2}, MAE = {val_mae}\")\n",
    "\n",
    "# Results on test set\n",
    "ds_test = EcDataset(\n",
    "    start_year = 2021, \n",
    "    end_year = 2022, \n",
    "    root = data_path, \n",
    "    roll_out = 1, \n",
    "    clim_features=CONFIG[\"clim_feats\"],\n",
    "    dynamic_features=CONFIG[\"dynamic_feats\"],\n",
    "    target_prog_features=CONFIG[\"targets_prog\"],\n",
    "    target_diag_features=CONFIG[\"targets_diag\"],\n",
    "    is_add_lat_lon = spatial_encoding, \n",
    "    is_norm = True, \n",
    "    point_dropout = 0.0\n",
    ")\n",
    "x_met, x_state, y_state_inc, y_diag, x_clim, x_time = load_all_data(ds_test)\n",
    "X_test = torch.cat((x_met, x_state, x_clim, x_time), dim=1) if temporal_encoding else torch.cat((x_met, x_state, x_clim), dim=1)\n",
    "y_test = torch.cat((y_state_inc, y_diag), dim=1)\n",
    "y_test_pred = model.predict(X_test)\n",
    "test_rmse = rmse(y_test_pred, y_test.numpy())\n",
    "test_r2 = r2(y_test_pred, y_test.numpy())\n",
    "test_mae = mae(y_test_pred, y_test.numpy())\n",
    "print(f\"Test RMSE = {test_rmse}, R2 = {test_r2}, MAE = {test_mae}\")"
   ],
   "outputs": []
  }
 ],
 "metadata": {
  "kernelspec": {
   "display_name": "Python 3",
   "language": "python",
   "name": "python3"
  },
  "language_info": {
   "codemirror_mode": {
    "name": "ipython",
    "version": 3
   },
   "file_extension": ".py",
   "mimetype": "text/x-python",
   "name": "python",
   "nbconvert_exporter": "python",
   "pygments_lexer": "ipython3",
   "version": "3.8.19"
  }
 },
 "nbformat": 4,
 "nbformat_minor": 4
}
