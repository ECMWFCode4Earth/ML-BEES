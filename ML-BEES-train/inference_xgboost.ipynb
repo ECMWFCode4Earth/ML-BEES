{
 "cells": [
  {
   "cell_type": "markdown",
   "metadata": {},
   "source": [
    "## Testing the newly trained emulator\n",
    "\n",
    "Now that we have our trained ML model we can test it against some independent data. We open up the ML training database and then apply the model over a complete three year period to test how well it performs. The last two years (2021 and 2022) are completely independent having not been used in the training."
   ]
  },
  {
   "cell_type": "code",
   "execution_count": null,
   "metadata": {},
   "outputs": [],
   "source": [
    "import yaml\n",
    "import xarray as xr\n",
    "import xgboost as xgb\n",
    "import numpy as np\n",
    "import matplotlib.pyplot as plt\n",
    "from tqdm import tqdm\n",
    "\n",
    "from dataset.EclandPointDataset import EcDataset"
   ]
  },
  {
   "cell_type": "markdown",
   "metadata": {},
   "source": [
    "## Settings"
   ]
  },
  {
   "cell_type": "code",
   "execution_count": null,
   "metadata": {},
   "outputs": [],
   "source": [
    "data_path = \"/data/ecland_i6aj_o400_2010_2022_6h_euro.zarr\"\n",
    "model_path = \"./euro_xgb_train_2019_val_2020_all_variables.json\"\n",
    "result_path = \"./euro_xgb_train_2019_val_2020_all_variables.zarr\"\n",
    "spatial_encoding = False\n",
    "temporal_encoding = False\n",
    "\n",
    "with open('configs/config.yaml') as stream:\n",
    "    try:\n",
    "        CONFIG = yaml.safe_load(stream)\n",
    "    except yaml.YAMLError as exc:\n",
    "        print(exc)"
   ]
  },
  {
   "cell_type": "markdown",
   "metadata": {},
   "source": [
    "## Dataset and model to run the inference for"
   ]
  },
  {
   "cell_type": "code",
   "execution_count": null,
   "metadata": {},
   "outputs": [],
   "source": [
    "# Dataset\n",
    "ds_inf = EcDataset(\n",
    "    start_year = 2020,\n",
    "    end_year = 2022,\n",
    "    root = data_path,\n",
    "    roll_out = 1,\n",
    "    clim_features=CONFIG[\"clim_feats\"],\n",
    "    dynamic_features=CONFIG[\"dynamic_feats\"],\n",
    "    target_prog_features=CONFIG[\"targets_prog\"],\n",
    "    target_diag_features=CONFIG[\"targets_diag\"],\n",
    "    is_add_lat_lon = spatial_encoding, \n",
    "    is_norm = True, \n",
    "    point_dropout = 0.0\n",
    ")\n",
    "\n",
    "# XGB Model\n",
    "model = xgb.XGBRegressor(\n",
    "    n_estimators=1000,\n",
    "    tree_method=\"hist\",\n",
    "    device=\"cuda\",\n",
    "    # objevtive=mse,\n",
    "    # multi_strategy=\"multi_output_tree\",\n",
    "    # learning_rate=0.3,\n",
    "    # eval_metric=mse,\n",
    "    # subsample=0.01,\n",
    "    # sampling_method=\"gradient_based\"\n",
    ")\n",
    "model.load_model(model_path)"
   ]
  },
  {
   "cell_type": "markdown",
   "metadata": {},
   "source": [
    "## Run the inference\n",
    "\n",
    "This is currently annoyingly slow, which could likely somehow be improved by loading all data into memory first as in the original implementation"
   ]
  },
  {
   "cell_type": "code",
   "execution_count": null,
   "metadata": {
    "tags": []
   },
   "outputs": [],
   "source": [
    "# Define function to apply to each model step\n",
    "def apply_physical_constraints(x_state):\n",
    "    x_state[:, np.array(CONFIG[\"targets_prog\"])!=\"e\"] = np.clip(x_state[:, np.array(CONFIG[\"targets_prog\"])!=\"e\"], 0, None) # All variables except \"e\" are positive\n",
    "    x_state[:,-1] = np.clip(x_state[:,-1], None, 100) # Snow cover cannot be higher than 100\n",
    "    return x_state\n",
    "\n",
    "# Initial state\n",
    "preds = []\n",
    "_, x_state, _, _, x_clim, _ = ds_inf[0]\n",
    "x_state, x_clim = x_state.squeeze(), x_clim.squeeze()\n",
    "preds.append(EcDataset.inv_transform(x_state, ds_inf.y_prog_means, ds_inf.y_prog_stdevs))\n",
    "\n",
    "# Inference\n",
    "for i in tqdm(range(len(ds_inf)), desc=\"Running ECLand emulator...\"):\n",
    "    x_met, _, _, _, _, _ = ds_inf[i]\n",
    "    x_met = x_met.squeeze()\n",
    "    X = np.concatenate((x_met, x_state, x_clim), axis=1)\n",
    "    y_pred = model.predict(X)\n",
    "    y_state_inc_pred = y_pred[:,:len(CONFIG[\"targets_prog\"])]\n",
    "    y_state_inc_pred = EcDataset.inv_transform(y_state_inc_pred, ds_inf.y_prog_inc_mean, ds_inf.y_prog_inc_std) # Unnormalize so that it can be added to the normalized state vector\n",
    "    x_state += y_state_inc_pred\n",
    "    x_state = apply_physical_constraints(EcDataset.inv_transform(x_state, ds_inf.y_prog_means, ds_inf.y_prog_stdevs)) # Unnormalize updated state vector and apply consistency constraints\n",
    "    preds.append(x_state)\n",
    "    x_state = EcDataset.transform(x_state, ds_inf.y_prog_means, ds_inf.y_prog_stdevs) # Re-normalize state vector for next iteration"
   ]
  },
  {
   "cell_type": "markdown",
   "metadata": {},
   "source": [
    "## Save results"
   ]
  },
  {
   "cell_type": "code",
   "execution_count": null,
   "metadata": {},
   "outputs": [],
   "source": [
    "preds = xr.DataArray(\n",
    "    data=np.stack(preds),\n",
    "    coords = {\"x\":ds_inf.ds_ecland[\"x\"], \"time\":ds_inf.times, \"variable\":CONFIG[\"targets_prog\"]},\n",
    "    dims = [\"time\", \"x\", \"variable\"],\n",
    "    name = \"data\"\n",
    ")\n",
    "preds = preds.assign_coords(lon=(\"x\", ds_inf.lon))\n",
    "preds = preds.assign_coords(lat=(\"x\", ds_inf.lat))\n",
    "preds = preds.to_dataset()\n",
    "preds.to_zarr(result_path)"
   ]
  },
  {
   "cell_type": "markdown",
   "metadata": {},
   "source": [
    "## Plotting example results\n",
    "\n",
    "Now we have 3-year's of output from the ec-land model and from our ML emulator, \"ai-land\", we can plot both trajectories to see how the ML model performs. As it has been trained on the first 2-years we expect it to fit here. However, the final year was left out of training and so is independent, we see the ML model still performs very well even in this independent year. \n",
    "\n",
    "It is also worth noting that here we have performed a complete 3-year run with the \"ai-land\" model (~4300 applications) and we find very little compounding errors, allowing us to accurately capture the full ec-land climatology."
   ]
  },
  {
   "cell_type": "code",
   "execution_count": null,
   "metadata": {
    "tags": []
   },
   "outputs": [],
   "source": [
    "true = xr.open_zarr(data_path).sel(time=slice(\"2020\", \"2022\")).data\n",
    "pred = xr.open_zarr(result_path).sel(time=slice(\"2020\", \"2022\")).data\n",
    "\n",
    "def find_nearest_idx(\n",
    "    arr1: np.ndarray,\n",
    "    arr2: np.ndarray,\n",
    "    val1: float,\n",
    "    val2: float,\n",
    ") -> int:\n",
    "    \"\"\"Find first nearest index for a given tolerance for two arrays and 2 values\n",
    "\n",
    "    :param arr1: first array\n",
    "    :param arr2: second arrat\n",
    "    :param val1: value to find in first array\n",
    "    :param val2: value to find in second array\n",
    "    :return: index as int\n",
    "    \"\"\"\n",
    "    return (np.abs(arr1 - val1) + np.abs(arr2 - val2)).argmin()\n",
    "\n",
    "lat, lon = 50.72, 7.11\n",
    "x_idx = find_nearest_idx(true.lat, true.lon, lat, lon).values\n",
    "\n",
    "def ailand_plot(var_name, label=None, test_date=\"2021-01-01\"):\n",
    "    \"\"\"Plotting function for the ec-land database and ai-land model output\n",
    "\n",
    "    :param var_name: parameter variable name\n",
    "    :param ax: the axes to plot on\n",
    "    :param ylabel: y-label for plot\n",
    "    :param ax_title: title for plot\n",
    "    :param test_date: date to plot vertical line (train/test split), defaults to \"2021-01-01\"\n",
    "    :return: plot axes\n",
    "    \"\"\"\n",
    "\n",
    "    fig = plt.figure(figsize=(9,4))\n",
    "    true.isel(x=x_idx).sel(variable=var_name).plot(label=\"ec-land\", ax=plt.gca())\n",
    "    pred.isel(x=x_idx).sel(variable=var_name).plot(label=\"ai-land\", ax=plt.gca())\n",
    "    \n",
    "    plt.gca().axvline(pred.sel(time=test_date).time.values[0], color=\"k\", linestyle=\"--\")\n",
    "    plt.gca().set_xlim(pred.time.values[[0,-1]])\n",
    "    plt.gca().set_ylabel(label)\n",
    "    plt.show()\n",
    "    \n",
    "    return\n",
    "\n",
    "for var in CONFIG[\"targets_prog\"]:\n",
    "    ailand_plot(var)"
   ]
  },
  {
   "cell_type": "markdown",
   "metadata": {},
   "source": [
    "## Feature importances"
   ]
  },
  {
   "cell_type": "code",
   "execution_count": null,
   "metadata": {},
   "outputs": [],
   "source": [
    "model.get_booster().feature_names = CONFIG[\"dynamic_feats\"] + CONFIG[\"targets_prog\"] + CONFIG[\"clim_feats\"]\n",
    "xgb.plot_importance(model)"
   ]
  }
 ],
 "metadata": {
  "kernelspec": {
   "display_name": "Python 3",
   "language": "python",
   "name": "python3"
  },
  "language_info": {
   "codemirror_mode": {
    "name": "ipython",
    "version": 3
   },
   "file_extension": ".py",
   "mimetype": "text/x-python",
   "name": "python",
   "nbconvert_exporter": "python",
   "pygments_lexer": "ipython3",
   "version": "3.12.3"
  }
 },
 "nbformat": 4,
 "nbformat_minor": 4
}
