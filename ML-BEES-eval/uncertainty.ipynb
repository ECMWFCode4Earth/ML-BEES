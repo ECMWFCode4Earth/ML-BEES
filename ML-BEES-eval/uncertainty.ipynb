{
 "cells": [
  {
   "cell_type": "code",
   "execution_count": 1,
   "metadata": {},
   "outputs": [
    {
     "name": "stderr",
     "output_type": "stream",
     "text": [
      "/data/conda/envs/ailand/lib/python3.12/site-packages/pyproj/__init__.py:89: UserWarning: pyproj unable to set database path.\n",
      "  _pyproj_global_context_initialize()\n"
     ]
    }
   ],
   "source": [
    "import numpy as np\n",
    "import xarray as xr\n",
    "\n",
    "from eval_utilities import spatial_temporal_metrics as stm\n",
    "from eval_utilities import visualization as vis\n",
    "import matplotlib.pyplot as plt\n",
    "\n",
    "import os\n",
    "import glob"
   ]
  },
  {
   "cell_type": "code",
   "execution_count": 3,
   "metadata": {},
   "outputs": [],
   "source": [
    "import yaml\n",
    "with open(f\"config.yaml\") as stream:\n",
    "    try:\n",
    "        CONFIG = yaml.safe_load(stream)\n",
    "    except yaml.YAMLError as exc:\n",
    "        print(exc)\n",
    "# load the predicted variables\n",
    "variables = CONFIG[\"targets_prog\"] + CONFIG[\"targets_diag\"]\n"
   ]
  },
  {
   "cell_type": "code",
   "execution_count": 4,
   "metadata": {},
   "outputs": [
    {
     "name": "stderr",
     "output_type": "stream",
     "text": [
      "/data/conda/envs/ailand/lib/python3.12/site-packages/xarray/backends/plugins.py:80: RuntimeWarning: Engine 'cfgrib' loading failed:\n",
      "Cannot find the ecCodes library\n",
      "  warnings.warn(f\"Engine {name!r} loading failed:\\n{ex}\", RuntimeWarning)\n"
     ]
    }
   ],
   "source": [
    "# load all the ensemble members and collect into \n",
    "# load ensembles name in a list\n",
    "# prepare the numpy ensemble array\n",
    "\n",
    "def find_files_with_name(directory, filename):\n",
    "    # Create a pattern for glob\n",
    "    pattern = os.path.join(directory, f'*{filename}*')\n",
    "    \n",
    "    # Use glob to find all files matching the pattern\n",
    "    matching_files = glob.glob(pattern)\n",
    "    \n",
    "    return matching_files\n",
    "\n",
    "# Example usage\n",
    "directory_path = '/data/ch23/data_ch23'  # Replace with your folder path\n",
    "file_name = 'mlp'  # File name to search for\n",
    "files_list = find_files_with_name(directory_path, file_name)\n",
    "\n",
    "# preprocess .zarr to np.array\n",
    "ens_file_list=[]\n",
    "for i,ens_file in enumerate(files_list):\n",
    "\n",
    "    ens1=xr.open_zarr(ens_file)\n",
    "    desired_chunks = (4, 10051, 17)  # Adjust based on your desired chunk sizes\n",
    "    ens1 = ens1.chunk({'time': 4, 'x': 10051, 'variable': 17})\n",
    "    ens1_array=ens1.data.values\n",
    "    ens_file_list.append(ens1_array)\n",
    "\n",
    "stacked_ens = np.stack(ens_file_list)\n",
    "y_pred=stacked_ens"
   ]
  },
  {
   "cell_type": "code",
   "execution_count": 8,
   "metadata": {},
   "outputs": [],
   "source": [
    "# load groundtruth\n",
    "v1=xr.open_zarr(\"/data/ch23/data_ch23/euro_mlp_v1_train_2010_2019_val_2020_2020.zarr\")\n",
    "\n",
    "train_ds = xr.open_zarr(\"/data/ecland_i6aj_o400_2010_2022_6h_euro.zarr\").sel(time=slice(\"2020\", \"2022\"),variable=variables)  \n",
    "# select the same variable list as prediction\n",
    "y_true=train_ds.data.values"
   ]
  },
  {
   "cell_type": "markdown",
   "metadata": {},
   "source": [
    "### visualize the ensemble at one grid point for one variable"
   ]
  },
  {
   "cell_type": "code",
   "execution_count": null,
   "metadata": {},
   "outputs": [],
   "source": [
    "# choose one grid point and one variable, showing the time series -- probably one part of the time series\n",
    "\n",
    "y_pred"
   ]
  },
  {
   "cell_type": "code",
   "execution_count": 12,
   "metadata": {},
   "outputs": [],
   "source": [
    "def crps(y_true, y_pred, sample_weight=None, norm=False):\n",
    "    \"\"\"\n",
    "    Calculate Continuous Ranked Probability Score\n",
    "    Data based on size (time, lat*lon, vars) where N=number of samples (in time) and each grid point will have one value\n",
    "    Args:\n",
    "        y_true (np.array): Ground truth with shape (time, lat*lon, vars).\n",
    "        y_pred (np.array): Predicted values from n_seeds ensembles with shape (n_seeds, time, lat*lon, vars).\n",
    "        sample_weight (np.array, optional): Sample weights.\n",
    "        norm (bool, optional): Flag to normalize the CRPS scores.\n",
    "    \n",
    "    Returns:\n",
    "        np.array: CRPS score for each height profile (lat*lon, vars).Returns:\n",
    "    @https://github.com/lm2612/WaveNet_UQ/\n",
    "    \"\"\"\n",
    "    # Number of ensemble predictions\n",
    "    num_samples = y_pred.shape[0]\n",
    "    \n",
    "    # Sort predictions along the ensemble axis\n",
    "    y_pred = np.sort(y_pred, axis=0)\n",
    "    \n",
    "    # Calculate differences between consecutive sorted predictions\n",
    "    diff = y_pred[1:] - y_pred[:-1]\n",
    "    \n",
    "    # Calculate weights for CRPS calculation\n",
    "    weight = np.arange(1, num_samples) * np.arange(num_samples - 1, 0, -1)\n",
    "    weight = weight[:, np.newaxis, np.newaxis, np.newaxis]\n",
    "    \n",
    "    # Calculate the absolute error\n",
    "    absolute_error = np.mean(np.abs(y_pred - np.expand_dims(y_true, 0)), axis=0)\n",
    "    \n",
    "    # Calculate per observation CRPS\n",
    "    per_obs_crps = absolute_error - np.sum(diff * weight, axis=0) / num_samples**2\n",
    "    \n",
    "    # Normalization if required\n",
    "    if norm:\n",
    "        crps_normalized = np.where(np.abs(y_true) > 1E-14, per_obs_crps / np.abs(y_true), np.nan)\n",
    "        return np.nanmean(crps_normalized, axis=0)\n",
    "    \n",
    "    # Return the weighted average CRPS\n",
    "    return np.average(per_obs_crps, axis=0, weights=sample_weight)"
   ]
  },
  {
   "cell_type": "code",
   "execution_count": 20,
   "metadata": {},
   "outputs": [],
   "source": [
    "# sometime could have the RAM problem, we cannot calculate 17 variables at the same time...\n",
    "# problem of numpy, but not figure out the way to calculate in .zarr\n",
    "# in that case, split the calculation\n",
    "\n",
    "crps_score = crps(y_true[:,:,:17], y_pred[:,:,:,:17], sample_weight=None, norm=False)"
   ]
  },
  {
   "cell_type": "code",
   "execution_count": 33,
   "metadata": {},
   "outputs": [
    {
     "data": {
      "text/plain": [
       "<xarray.backends.zarr.ZarrStore at 0x7fd0e2db3540>"
      ]
     },
     "execution_count": 33,
     "metadata": {},
     "output_type": "execute_result"
    }
   ],
   "source": [
    "# Calculate CRPS\n",
    "#crps_scores = crps(y_true, y_pred)\n",
    "\n",
    "# Create a new xarray Dataset with CRPS scores\n",
    "crps_ds = xr.Dataset(\n",
    "    {\n",
    "        \"crps\": ((\"x\", \"variable\"), crps_score)\n",
    "    },\n",
    "    coords={\n",
    "        \"lat\": (\"x\", v1.lat.values),\n",
    "        \"lon\": (\"x\", v1.lon.values),\n",
    "        \"variable\": v1.variable.values,\n",
    "    }\n",
    ")\n",
    "# Save the new dataset as a .zarr file\n",
    "crps_ds.to_zarr(\"/data/ch23/evalution_results/uncertainty/crps_mlp_test.zarr\")"
   ]
  },
  {
   "cell_type": "code",
   "execution_count": null,
   "metadata": {},
   "outputs": [],
   "source": [
    "def crpss(y_true, y_pred, y_ref):\n",
    "    \"\"\"Calculate Continuous Ranked Probability Skill Score\n",
    "    Args:\n",
    "     * y_true : np.array (time, lat*lon) ground truth\n",
    "     * y_pred : np.array (n_seeds, time, lat*lon) predicted from model\n",
    "     * y_ref : np.array (n_seeds, time, lat*lon) reference prediction -- what is this?\n",
    "    \"\"\"\n",
    "    crps_model = crps(y_true, y_pred)\n",
    "    crps_ref = crps(y_true, y_ref)\n",
    "    return 1 - (crps_model / crps_ref)"
   ]
  },
  {
   "cell_type": "code",
   "execution_count": null,
   "metadata": {},
   "outputs": [],
   "source": [
    "# calculate the crpss:\n",
    "# what is the ref?"
   ]
  },
  {
   "cell_type": "markdown",
   "metadata": {},
   "source": [
    "### Plot CRPS and CRPSS for different variables but for the entire inference time period"
   ]
  },
  {
   "cell_type": "code",
   "execution_count": null,
   "metadata": {},
   "outputs": [],
   "source": [
    "# visualize the crpss and crps in boxplot for all the variables -- the boxplot is representing the stack of the grid points"
   ]
  },
  {
   "cell_type": "markdown",
   "metadata": {},
   "source": [
    "### plot CRPS and CRPSS for one variable but for different period of inference time, as well as the confidence interval of the score"
   ]
  },
  {
   "cell_type": "code",
   "execution_count": null,
   "metadata": {},
   "outputs": [],
   "source": [
    "# the confidence interval comes from the differences in 10051 grid points"
   ]
  },
  {
   "cell_type": "markdown",
   "metadata": {},
   "source": [
    "### Uncertainty against Error"
   ]
  },
  {
   "cell_type": "code",
   "execution_count": null,
   "metadata": {},
   "outputs": [],
   "source": [
    "# only can be done for individual variable"
   ]
  },
  {
   "cell_type": "markdown",
   "metadata": {},
   "source": [
    "#### Characteristics of a good ensemble\n",
    "Forecasts from a good ensemble should: \n",
    "\n",
    "display no mean errors (bias); otherwise the probabilities will be biased as well.\n",
    "exhibit sharpness (i.e. have relatively small spread where the uncertainty is small).\n",
    "have the ability to span the full climatological range; otherwise the probabilities will either over- or under-forecast the risks of anomalous or extreme weather events.\n",
    "\n",
    "https://confluence.ecmwf.int/display/FUG/Section+5+Forecast+Ensemble+%28ENS%29+-+Rationale+and+Construction"
   ]
  }
 ],
 "metadata": {
  "kernelspec": {
   "display_name": "Python 3",
   "language": "python",
   "name": "python3"
  },
  "language_info": {
   "codemirror_mode": {
    "name": "ipython",
    "version": 3
   },
   "file_extension": ".py",
   "mimetype": "text/x-python",
   "name": "python",
   "nbconvert_exporter": "python",
   "pygments_lexer": "ipython3",
   "version": "3.12.3"
  }
 },
 "nbformat": 4,
 "nbformat_minor": 2
}
