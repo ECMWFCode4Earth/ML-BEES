{
 "cells": [
  {
   "cell_type": "code",
   "execution_count": 5,
   "metadata": {},
   "outputs": [],
   "source": [
    "import numpy as np\n",
    "import xarray as xr\n",
    "\n",
    "from eval_utilities import spatial_temporal_metrics as stm\n",
    "from eval_utilities import visualization as vis\n",
    "import matplotlib.pyplot as plt\n",
    "\n"
   ]
  },
  {
   "cell_type": "code",
   "execution_count": 6,
   "metadata": {},
   "outputs": [],
   "source": [
    "# load ensembles\n",
    "v1=xr.open_zarr(\"/data/ch23/data_ch23/euro_mlp_v1_train_2010_2019_val_2020_2020.zarr\")\n",
    "v2=xr.open_zarr(\"/data/ch23/data_ch23/euro_mlp_v2_train_2010_2019_val_2020_2020.zarr\")\n",
    "v3=xr.open_zarr(\"/data/ch23/data_ch23/euro_mlp_v3_train_2010_2019_val_2020_2020.zarr\")"
   ]
  },
  {
   "cell_type": "code",
   "execution_count": 7,
   "metadata": {},
   "outputs": [],
   "source": [
    "# load groundtruth\n",
    "\n",
    "train_ds = xr.open_zarr(\"/data/ecland_i6aj_o400_2010_2022_6h_euro.zarr\").sel(time=slice(\"2020\", \"2022\"))  "
   ]
  },
  {
   "cell_type": "code",
   "execution_count": 8,
   "metadata": {},
   "outputs": [],
   "source": [
    "def crps(y_true, y_pred, sample_weight=None, norm=False):\n",
    "    \"\"\"Calculate Continuous Ranked Probability Score -- change for our case\n",
    "    Data based on size (N, np_full) where N=number of samples (in time, lat, lon) and np_full is height (=40) \n",
    "    Args:\n",
    "     * y_true : np.array (N, np_full) ground truth from AD99 for N samples, for profile of height np_full\n",
    "     * y_pred : np.array (n_seeds, N, np_full) predicted from n_seeds ensembles, for N samples, for profile of height np_full\n",
    "    Returns:\n",
    "        np.array\n",
    "            CRPS score for each height profile (np_full).\n",
    "    @https://github.com/lm2612/WaveNet_UQ/\n",
    "    \"\"\"\n",
    "    num_samples = y_pred.shape[0]\n",
    "    y_pred = np.sort(y_pred, axis=0)\n",
    "    diff = y_pred[1:] - y_pred[:-1]\n",
    "    weight = np.arange(1, num_samples) * np.arange(num_samples - 1, 0, -1)\n",
    "    weight = np.expand_dims(weight, (-2,-1))\n",
    "    ##y_true = np.expand_dims(y_true, 0)\n",
    "    absolute_error = np.mean(np.abs(y_pred - np.expand_dims(y_true, 0)), axis=(0)) \n",
    "    per_obs_crps = absolute_error - np.sum(diff * weight, axis=0) / num_samples**2\n",
    "    if norm:\n",
    "        crps_normalized = np.where(np.abs(y_true)> 1E-14, per_obs_crps/np.abs(y_true), np.nan)\n",
    "        return np.nanmean(crps_normalized, axis=0)\n",
    "    return np.average(per_obs_crps, axis=0, weights=sample_weight)"
   ]
  },
  {
   "cell_type": "code",
   "execution_count": 9,
   "metadata": {},
   "outputs": [],
   "source": [
    "def crpss(y_true, y_pred, y_ref):\n",
    "    \"\"\"Calculate Continuous Ranked Probability Skill Score\n",
    "    Args:\n",
    "     * y_true : np.array (N, np_full) ground truth\n",
    "     * y_pred : np.array (n_seeds, N, np_full) predicted from model\n",
    "     * y_ref : np.array (n_seeds, N, np_full) reference prediction\n",
    "    \"\"\"\n",
    "    crps_model = crps(y_true, y_pred)\n",
    "    crps_ref = crps(y_true, y_ref)\n",
    "    return 1 - (crps_model / crps_ref)"
   ]
  },
  {
   "cell_type": "markdown",
   "metadata": {},
   "source": [
    "### PLot ensemble inference time series of one variable at one grid point"
   ]
  },
  {
   "cell_type": "code",
   "execution_count": null,
   "metadata": {},
   "outputs": [],
   "source": [
    "# save the .zarr for all the variables in ./ch23"
   ]
  },
  {
   "cell_type": "markdown",
   "metadata": {},
   "source": [
    "### Plot CRPS and CRPSS for different variables but for the entire inference time period"
   ]
  },
  {
   "cell_type": "code",
   "execution_count": null,
   "metadata": {},
   "outputs": [],
   "source": []
  },
  {
   "cell_type": "markdown",
   "metadata": {},
   "source": [
    "### plot CRPS and CRPSS for one variable but for different period of inference time, as well as the confidence interval of the score"
   ]
  },
  {
   "cell_type": "code",
   "execution_count": null,
   "metadata": {},
   "outputs": [],
   "source": []
  },
  {
   "cell_type": "markdown",
   "metadata": {},
   "source": [
    "### Uncertainty against Error"
   ]
  },
  {
   "cell_type": "code",
   "execution_count": null,
   "metadata": {},
   "outputs": [],
   "source": []
  },
  {
   "cell_type": "markdown",
   "metadata": {},
   "source": [
    "#### Characteristics of a good ensemble\n",
    "Forecasts from a good ensemble should: \n",
    "\n",
    "display no mean errors (bias); otherwise the probabilities will be biased as well.\n",
    "exhibit sharpness (i.e. have relatively small spread where the uncertainty is small).\n",
    "have the ability to span the full climatological range; otherwise the probabilities will either over- or under-forecast the risks of anomalous or extreme weather events.\n",
    "\n",
    "https://confluence.ecmwf.int/display/FUG/Section+5+Forecast+Ensemble+%28ENS%29+-+Rationale+and+Construction"
   ]
  }
 ],
 "metadata": {
  "kernelspec": {
   "display_name": "Python 3",
   "language": "python",
   "name": "python3"
  },
  "language_info": {
   "codemirror_mode": {
    "name": "ipython",
    "version": 3
   },
   "file_extension": ".py",
   "mimetype": "text/x-python",
   "name": "python",
   "nbconvert_exporter": "python",
   "pygments_lexer": "ipython3",
   "version": "3.12.3"
  }
 },
 "nbformat": 4,
 "nbformat_minor": 2
}
