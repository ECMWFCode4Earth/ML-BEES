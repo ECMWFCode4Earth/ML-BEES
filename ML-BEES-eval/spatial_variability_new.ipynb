{
 "cells": [
  {
   "cell_type": "code",
   "execution_count": 2,
   "metadata": {},
   "outputs": [],
   "source": [
    "import numpy as np\n",
    "import xarray as xr\n",
    "\n",
    "import sys\n",
    "sys.path.append(r'/home/ch23/ML-BEES_yk/ML-BEES-eval/eval_utilities')\n",
    "from spatial_temporal_metrics import Metrics\n",
    "import visualization"
   ]
  },
  {
   "cell_type": "code",
   "execution_count": 30,
   "metadata": {},
   "outputs": [],
   "source": [
    "# load the ecland data as ground truth (ref)\n",
    "\n",
    "# select 2021/2022 from Global dataset for the evaluation\n",
    "# start with ecland_i6aj_o400_2010_2022_6h_euro.zarr\n",
    "ecland_eval = xr.open_zarr(\"/data/ecland_i6aj_o400_2010_2022_6h_euro.zarr\").sel(time=slice(\"2021\", \"2022\"))  \n",
    "# train_ds = xr.open_zarr(\"/data/ecland_i6aj_o400_2010_2022_6h_euro.zarr\")  # Europe subset\n",
    "\n",
    "# load the ailand data as mod\n",
    "model_name='euro_mamba_v4_train_2010_2019_val_2020_2020'\n",
    "ailand_eval = xr.open_zarr(\"/data/ch23/data_ch23/%s.zarr\" % model_name).sel(time=slice(\"2021\", \"2022\"))  \n",
    "# new evaluation\n"
   ]
  },
  {
   "cell_type": "code",
   "execution_count": 31,
   "metadata": {},
   "outputs": [],
   "source": [
    "# define parameters\n",
    "\n",
    "mod = ailand_eval\n",
    "ref = ecland_eval\n",
    "path='/data/ch23/evalution_results/%s/spatial/' % model_name\n",
    "path_png='/data/ch23/evalution_results/%s/visualization/' % model_name\n",
    "figure_path='/data/ch23/evalution_results/%s/visualization/' % model_name"
   ]
  },
  {
   "cell_type": "code",
   "execution_count": 32,
   "metadata": {},
   "outputs": [],
   "source": [
    "# the problem of chunk in ailand output, need to be rechunked based on the shape of mod\n",
    "\n",
    "desired_chunks = (4, 10051, 17)  # Adjust based on your desired chunk sizes\n",
    "mod = mod.chunk({'time': 4, 'x': 10051, 'variable': 17})\n"
   ]
  },
  {
   "cell_type": "code",
   "execution_count": 33,
   "metadata": {},
   "outputs": [],
   "source": [
    "# initialize the metrics class -- mc\n",
    "mc=Metrics(mod,ref,path)"
   ]
  },
  {
   "cell_type": "code",
   "execution_count": 6,
   "metadata": {},
   "outputs": [],
   "source": [
    "vars = np.intersect1d(mod.variable, ref.variable)"
   ]
  },
  {
   "cell_type": "code",
   "execution_count": 34,
   "metadata": {},
   "outputs": [],
   "source": [
    "# visualization -- for example: swvl1\n",
    "########  bias  ###########\n",
    "bias=mc.bias(relative=False)\n",
    "for var in bias.variable.values:\n",
    "    visualization.vis_zarr_map(bias\n",
    "                               ,var\n",
    "                               ,figure_path+'bias'\n",
    "                                ,1,99)"
   ]
  },
  {
   "cell_type": "code",
   "execution_count": 35,
   "metadata": {},
   "outputs": [],
   "source": [
    "########  nor_bias  ###########\n",
    "nor_bias=mc.bias(relative=True)\n",
    "# visualization -- for example: swvl1\n",
    "for var in nor_bias.variable.values:\n",
    "    visualization.vis_zarr_map(nor_bias, var, \n",
    "                            figure_path+'nor_bias'\n",
    "                            ,1,99)"
   ]
  },
  {
   "cell_type": "code",
   "execution_count": 36,
   "metadata": {},
   "outputs": [],
   "source": [
    "########  rmse  ###########\n",
    "rmse=mc.rmse(relative=False)\n",
    "# visualization -- for example: swvl1\n",
    "for var in rmse.variable.values:\n",
    "    visualization.vis_zarr_map(rmse, var, \n",
    "                            figure_path+'rmse'\n",
    "                            ,1,99)"
   ]
  },
  {
   "cell_type": "code",
   "execution_count": 37,
   "metadata": {},
   "outputs": [],
   "source": [
    "########  nor_rmse  ###########\n",
    "nor_rmse=mc.rmse(relative=True)\n",
    "# visualization -- for example: swvl1\n",
    "for var in nor_rmse.variable.values:\n",
    "    visualization.vis_zarr_map(nor_rmse, var, \n",
    "                            figure_path+'nor_rmse'\n",
    "                            ,1,99)"
   ]
  },
  {
   "cell_type": "code",
   "execution_count": 38,
   "metadata": {},
   "outputs": [],
   "source": [
    "########  acc  ###########\n",
    "acc1=mc.acc()\n",
    "# visualization -- for example: swvl1\n",
    "for var in acc1.variable.values:\n",
    "    visualization.vis_zarr_map(acc1, var, \n",
    "                            figure_path+'acc'\n",
    "                            ,1,99)"
   ]
  },
  {
   "cell_type": "markdown",
   "metadata": {},
   "source": [
    "### evaluation between models"
   ]
  },
  {
   "cell_type": "code",
   "execution_count": null,
   "metadata": {},
   "outputs": [],
   "source": [
    "# compare the results between two models\n",
    "# example in acc\n",
    "# start with ecland_i6aj_o400_2010_2022_6h_euro.zarr\n",
    "ecland_eval = xr.open_zarr(\"/data/ecland_i6aj_o400_2010_2022_6h_euro.zarr\").sel(time=slice(\"2021\", \"2022\"))  \n",
    "# train_ds = xr.open_zarr(\"/data/ecland_i6aj_o400_2010_2022_6h_euro.zarr\")  # Europe subset\n",
    "\n",
    "# load the ailand data as mod\n",
    "\n",
    "ailand_eval1 = xr.open_zarr(\"/data/ch23/data_ch23/euro_xgb_train_2010_2019_val_2020_2020_diagnostic_v2.zarr\").sel(time=slice(\"2021\", \"2022\"))  \n",
    "\n",
    "ailand_eval2 = xr.open_zarr(\"/data/ch23/data_ch23/euro_xgb_train_2010_2019_val_2020_2020_diagnostic_v2.zarr\").sel(time=slice(\"2021\", \"2022\"))  \n",
    "\n",
    "# define parameters\n",
    "\n",
    "mod2 = ailand_eval2\n",
    "\n",
    "path='/data/ch23/evalution_results/euro_xgb_train_2010_2019_val_2020_2020_diagnostic_v2/spatial/'\n",
    "path_png='/data/ch23/evalution_results/euro_xgb_train_2010_2019_val_2020_2020_diagnostic_v2/visualization/'\n",
    "\n",
    "mc=Metrics(mod2,ref,path)\n",
    "acc2=mc.acc()\n",
    "\n",
    "diff_acc=acc2-acc1\n",
    "\n",
    "# visualization -- save the diff between models\n",
    "for var in acc1.variable.values:\n",
    "    visualization.vis_zarr_map(acc1, var, \n",
    "                            figure_path\n",
    "                            ,1,99)\n"
   ]
  }
 ],
 "metadata": {
  "kernelspec": {
   "display_name": "Python 3",
   "language": "python",
   "name": "python3"
  },
  "language_info": {
   "codemirror_mode": {
    "name": "ipython",
    "version": 3
   },
   "file_extension": ".py",
   "mimetype": "text/x-python",
   "name": "python",
   "nbconvert_exporter": "python",
   "pygments_lexer": "ipython3",
   "version": "3.12.3"
  }
 },
 "nbformat": 4,
 "nbformat_minor": 2
}
