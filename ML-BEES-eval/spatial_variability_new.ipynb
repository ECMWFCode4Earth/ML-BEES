{
 "cells": [
  {
   "cell_type": "code",
   "execution_count": 1,
   "metadata": {},
   "outputs": [
    {
     "name": "stderr",
     "output_type": "stream",
     "text": [
      "/data/conda/envs/ailand/lib/python3.12/site-packages/pyproj/__init__.py:89: UserWarning: pyproj unable to set database path.\n",
      "  _pyproj_global_context_initialize()\n"
     ]
    }
   ],
   "source": [
    "import numpy as np\n",
    "import xarray as xr\n",
    "\n",
    "import sys\n",
    "sys.path.append(r'/home/ch23/ML-BEES_yk/ML-BEES-eval/eval_utilities')\n",
    "from spatial_temporal_metrics import Metrics\n",
    "import visualization"
   ]
  },
  {
   "cell_type": "code",
   "execution_count": 2,
   "metadata": {},
   "outputs": [
    {
     "name": "stderr",
     "output_type": "stream",
     "text": [
      "/data/conda/envs/ailand/lib/python3.12/site-packages/xarray/backends/plugins.py:80: RuntimeWarning: Engine 'cfgrib' loading failed:\n",
      "Cannot find the ecCodes library\n",
      "  warnings.warn(f\"Engine {name!r} loading failed:\\n{ex}\", RuntimeWarning)\n"
     ]
    }
   ],
   "source": [
    "# load the ecland data as ground truth (ref)\n",
    "\n",
    "# select 2021/2022 from Global dataset for the evaluation\n",
    "# start with ecland_i6aj_o400_2010_2022_6h_euro.zarr\n",
    "ecland_eval = xr.open_zarr(\"/data/ecland_i6aj_o400_2010_2022_6h_euro.zarr\").sel(time=slice(\"2021\", \"2022\"))  \n",
    "# train_ds = xr.open_zarr(\"/data/ecland_i6aj_o400_2010_2022_6h_euro.zarr\")  # Europe subset\n",
    "\n",
    "# load the ailand data as mod\n",
    "\n",
    "ailand_eval = xr.open_zarr(\"/data/ch23/data_ch23/euro_unimp_train_2010_2019_val_2020_2020.zarr\").sel(time=slice(\"2021\", \"2022\"))  \n",
    "# new evaluation\n"
   ]
  },
  {
   "cell_type": "code",
   "execution_count": 3,
   "metadata": {},
   "outputs": [],
   "source": [
    "# define parameters\n",
    "\n",
    "mod = ailand_eval\n",
    "ref = ecland_eval\n",
    "path='/data/ch23/evalution_results/euro_unimp_train_2010_2019_val_2020_2020/spatial/'\n",
    "path_png='/data/ch23/evalution_results/euro_unimp_train_2010_2019_val_2020_2020/visualization/'\n",
    "figure_path='/data/ch23/evalution_results/euro_unimp_train_2010_2019_val_2020_2020/visualization/'"
   ]
  },
  {
   "cell_type": "code",
   "execution_count": 4,
   "metadata": {},
   "outputs": [],
   "source": [
    "# the problem of chunk in ailand output, need to be rechunked based on the shape of mod\n",
    "\n",
    "desired_chunks = (4, 10051, 17)  # Adjust based on your desired chunk sizes\n",
    "mod = mod.chunk({'time': 4, 'x': 10051, 'variable': 17})\n"
   ]
  },
  {
   "cell_type": "code",
   "execution_count": 5,
   "metadata": {},
   "outputs": [],
   "source": [
    "# initialize the metrics class -- mc\n",
    "mc=Metrics(mod,ref,path)"
   ]
  },
  {
   "cell_type": "code",
   "execution_count": 6,
   "metadata": {},
   "outputs": [],
   "source": [
    "vars = np.intersect1d(mod.variable, ref.variable)"
   ]
  },
  {
   "cell_type": "code",
   "execution_count": 7,
   "metadata": {},
   "outputs": [],
   "source": [
    "# visualization -- for example: swvl1\n",
    "########  bias  ###########\n",
    "bias=mc.bias(relative=False)\n",
    "for var in bias.variable.values:\n",
    "    visualization.vis_zarr_map(bias\n",
    "                               ,var\n",
    "                               ,figure_path+'bias'\n",
    "                                ,1,99)"
   ]
  },
  {
   "cell_type": "code",
   "execution_count": 8,
   "metadata": {},
   "outputs": [
    {
     "name": "stderr",
     "output_type": "stream",
     "text": [
      "/data/conda/envs/ailand/lib/python3.12/site-packages/dask/core.py:127: RuntimeWarning: divide by zero encountered in divide\n",
      "  return func(*(_execute_task(a, cache) for a in args))\n",
      "/data/conda/envs/ailand/lib/python3.12/site-packages/dask/core.py:127: RuntimeWarning: divide by zero encountered in divide\n",
      "  return func(*(_execute_task(a, cache) for a in args))\n",
      "/data/conda/envs/ailand/lib/python3.12/site-packages/dask/core.py:127: RuntimeWarning: divide by zero encountered in divide\n",
      "  return func(*(_execute_task(a, cache) for a in args))\n",
      "/data/conda/envs/ailand/lib/python3.12/site-packages/dask/core.py:127: RuntimeWarning: divide by zero encountered in divide\n",
      "  return func(*(_execute_task(a, cache) for a in args))\n",
      "/data/conda/envs/ailand/lib/python3.12/site-packages/dask/core.py:127: RuntimeWarning: divide by zero encountered in divide\n",
      "  return func(*(_execute_task(a, cache) for a in args))\n",
      "/data/conda/envs/ailand/lib/python3.12/site-packages/dask/core.py:127: RuntimeWarning: divide by zero encountered in divide\n",
      "  return func(*(_execute_task(a, cache) for a in args))\n",
      "/data/conda/envs/ailand/lib/python3.12/site-packages/dask/core.py:127: RuntimeWarning: divide by zero encountered in divide\n",
      "  return func(*(_execute_task(a, cache) for a in args))\n",
      "/data/conda/envs/ailand/lib/python3.12/site-packages/dask/core.py:127: RuntimeWarning: divide by zero encountered in divide\n",
      "  return func(*(_execute_task(a, cache) for a in args))\n",
      "/data/conda/envs/ailand/lib/python3.12/site-packages/dask/core.py:127: RuntimeWarning: divide by zero encountered in divide\n",
      "  return func(*(_execute_task(a, cache) for a in args))\n",
      "/data/conda/envs/ailand/lib/python3.12/site-packages/dask/core.py:127: RuntimeWarning: divide by zero encountered in divide\n",
      "  return func(*(_execute_task(a, cache) for a in args))\n",
      "/data/conda/envs/ailand/lib/python3.12/site-packages/dask/core.py:127: RuntimeWarning: divide by zero encountered in divide\n",
      "  return func(*(_execute_task(a, cache) for a in args))\n",
      "/data/conda/envs/ailand/lib/python3.12/site-packages/dask/core.py:127: RuntimeWarning: divide by zero encountered in divide\n",
      "  return func(*(_execute_task(a, cache) for a in args))\n",
      "/data/conda/envs/ailand/lib/python3.12/site-packages/dask/core.py:127: RuntimeWarning: divide by zero encountered in divide\n",
      "  return func(*(_execute_task(a, cache) for a in args))\n",
      "/data/conda/envs/ailand/lib/python3.12/site-packages/dask/core.py:127: RuntimeWarning: divide by zero encountered in divide\n",
      "  return func(*(_execute_task(a, cache) for a in args))\n",
      "/data/conda/envs/ailand/lib/python3.12/site-packages/dask/core.py:127: RuntimeWarning: divide by zero encountered in divide\n",
      "  return func(*(_execute_task(a, cache) for a in args))\n",
      "/data/conda/envs/ailand/lib/python3.12/site-packages/dask/core.py:127: RuntimeWarning: divide by zero encountered in divide\n",
      "  return func(*(_execute_task(a, cache) for a in args))\n",
      "/data/conda/envs/ailand/lib/python3.12/site-packages/dask/core.py:127: RuntimeWarning: divide by zero encountered in divide\n",
      "  return func(*(_execute_task(a, cache) for a in args))\n",
      "/data/conda/envs/ailand/lib/python3.12/site-packages/dask/core.py:127: RuntimeWarning: divide by zero encountered in divide\n",
      "  return func(*(_execute_task(a, cache) for a in args))\n",
      "/data/conda/envs/ailand/lib/python3.12/site-packages/dask/core.py:127: RuntimeWarning: divide by zero encountered in divide\n",
      "  return func(*(_execute_task(a, cache) for a in args))\n",
      "/data/conda/envs/ailand/lib/python3.12/site-packages/dask/core.py:127: RuntimeWarning: divide by zero encountered in divide\n",
      "  return func(*(_execute_task(a, cache) for a in args))\n",
      "/data/conda/envs/ailand/lib/python3.12/site-packages/dask/core.py:127: RuntimeWarning: divide by zero encountered in divide\n",
      "  return func(*(_execute_task(a, cache) for a in args))\n",
      "/data/conda/envs/ailand/lib/python3.12/site-packages/dask/core.py:127: RuntimeWarning: divide by zero encountered in divide\n",
      "  return func(*(_execute_task(a, cache) for a in args))\n",
      "/data/conda/envs/ailand/lib/python3.12/site-packages/dask/core.py:127: RuntimeWarning: divide by zero encountered in divide\n",
      "  return func(*(_execute_task(a, cache) for a in args))\n",
      "/data/conda/envs/ailand/lib/python3.12/site-packages/dask/core.py:127: RuntimeWarning: divide by zero encountered in divide\n",
      "  return func(*(_execute_task(a, cache) for a in args))\n",
      "/data/conda/envs/ailand/lib/python3.12/site-packages/dask/core.py:127: RuntimeWarning: divide by zero encountered in divide\n",
      "  return func(*(_execute_task(a, cache) for a in args))\n",
      "/data/conda/envs/ailand/lib/python3.12/site-packages/dask/core.py:127: RuntimeWarning: divide by zero encountered in divide\n",
      "  return func(*(_execute_task(a, cache) for a in args))\n",
      "/data/conda/envs/ailand/lib/python3.12/site-packages/dask/core.py:127: RuntimeWarning: divide by zero encountered in divide\n",
      "  return func(*(_execute_task(a, cache) for a in args))\n",
      "/data/conda/envs/ailand/lib/python3.12/site-packages/dask/core.py:127: RuntimeWarning: divide by zero encountered in divide\n",
      "  return func(*(_execute_task(a, cache) for a in args))\n",
      "/data/conda/envs/ailand/lib/python3.12/site-packages/dask/core.py:127: RuntimeWarning: divide by zero encountered in divide\n",
      "  return func(*(_execute_task(a, cache) for a in args))\n",
      "/data/conda/envs/ailand/lib/python3.12/site-packages/dask/core.py:127: RuntimeWarning: divide by zero encountered in divide\n",
      "  return func(*(_execute_task(a, cache) for a in args))\n",
      "/data/conda/envs/ailand/lib/python3.12/site-packages/dask/core.py:127: RuntimeWarning: divide by zero encountered in divide\n",
      "  return func(*(_execute_task(a, cache) for a in args))\n",
      "/data/conda/envs/ailand/lib/python3.12/site-packages/dask/core.py:127: RuntimeWarning: divide by zero encountered in divide\n",
      "  return func(*(_execute_task(a, cache) for a in args))\n",
      "/data/conda/envs/ailand/lib/python3.12/site-packages/dask/core.py:127: RuntimeWarning: divide by zero encountered in divide\n",
      "  return func(*(_execute_task(a, cache) for a in args))\n",
      "/data/conda/envs/ailand/lib/python3.12/site-packages/dask/core.py:127: RuntimeWarning: divide by zero encountered in divide\n",
      "  return func(*(_execute_task(a, cache) for a in args))\n",
      "/data/conda/envs/ailand/lib/python3.12/site-packages/dask/core.py:127: RuntimeWarning: invalid value encountered in divide\n",
      "  return func(*(_execute_task(a, cache) for a in args))\n",
      "/data/conda/envs/ailand/lib/python3.12/site-packages/dask/core.py:127: RuntimeWarning: invalid value encountered in divide\n",
      "  return func(*(_execute_task(a, cache) for a in args))\n",
      "/data/conda/envs/ailand/lib/python3.12/site-packages/dask/core.py:127: RuntimeWarning: invalid value encountered in divide\n",
      "  return func(*(_execute_task(a, cache) for a in args))\n",
      "/data/conda/envs/ailand/lib/python3.12/site-packages/dask/core.py:127: RuntimeWarning: invalid value encountered in divide\n",
      "  return func(*(_execute_task(a, cache) for a in args))\n",
      "/data/conda/envs/ailand/lib/python3.12/site-packages/dask/core.py:127: RuntimeWarning: invalid value encountered in divide\n",
      "  return func(*(_execute_task(a, cache) for a in args))\n",
      "/data/conda/envs/ailand/lib/python3.12/site-packages/dask/core.py:127: RuntimeWarning: invalid value encountered in divide\n",
      "  return func(*(_execute_task(a, cache) for a in args))\n",
      "/data/conda/envs/ailand/lib/python3.12/site-packages/dask/core.py:127: RuntimeWarning: invalid value encountered in divide\n",
      "  return func(*(_execute_task(a, cache) for a in args))\n",
      "/data/conda/envs/ailand/lib/python3.12/site-packages/dask/core.py:127: RuntimeWarning: invalid value encountered in divide\n",
      "  return func(*(_execute_task(a, cache) for a in args))\n",
      "/data/conda/envs/ailand/lib/python3.12/site-packages/dask/core.py:127: RuntimeWarning: invalid value encountered in divide\n",
      "  return func(*(_execute_task(a, cache) for a in args))\n",
      "/data/conda/envs/ailand/lib/python3.12/site-packages/dask/core.py:127: RuntimeWarning: invalid value encountered in divide\n",
      "  return func(*(_execute_task(a, cache) for a in args))\n",
      "/data/conda/envs/ailand/lib/python3.12/site-packages/dask/core.py:127: RuntimeWarning: invalid value encountered in divide\n",
      "  return func(*(_execute_task(a, cache) for a in args))\n",
      "/data/conda/envs/ailand/lib/python3.12/site-packages/dask/core.py:127: RuntimeWarning: invalid value encountered in divide\n",
      "  return func(*(_execute_task(a, cache) for a in args))\n",
      "/data/conda/envs/ailand/lib/python3.12/site-packages/dask/core.py:127: RuntimeWarning: invalid value encountered in divide\n",
      "  return func(*(_execute_task(a, cache) for a in args))\n",
      "/data/conda/envs/ailand/lib/python3.12/site-packages/dask/core.py:127: RuntimeWarning: invalid value encountered in divide\n",
      "  return func(*(_execute_task(a, cache) for a in args))\n",
      "/data/conda/envs/ailand/lib/python3.12/site-packages/dask/core.py:127: RuntimeWarning: invalid value encountered in divide\n",
      "  return func(*(_execute_task(a, cache) for a in args))\n",
      "/data/conda/envs/ailand/lib/python3.12/site-packages/dask/core.py:127: RuntimeWarning: invalid value encountered in divide\n",
      "  return func(*(_execute_task(a, cache) for a in args))\n",
      "/data/conda/envs/ailand/lib/python3.12/site-packages/dask/core.py:127: RuntimeWarning: invalid value encountered in divide\n",
      "  return func(*(_execute_task(a, cache) for a in args))\n"
     ]
    }
   ],
   "source": [
    "########  nor_bias  ###########\n",
    "nor_bias=mc.bias(relative=True)\n",
    "# visualization -- for example: swvl1\n",
    "for var in nor_bias.variable.values:\n",
    "    visualization.vis_zarr_map(nor_bias, var, \n",
    "                            figure_path+'nor_bias'\n",
    "                            ,1,99)"
   ]
  },
  {
   "cell_type": "code",
   "execution_count": 9,
   "metadata": {},
   "outputs": [],
   "source": [
    "########  rmse  ###########\n",
    "rmse=mc.rmse(relative=False)\n",
    "# visualization -- for example: swvl1\n",
    "for var in rmse.variable.values:\n",
    "    visualization.vis_zarr_map(rmse, var, \n",
    "                            figure_path+'rmse'\n",
    "                            ,1,99)"
   ]
  },
  {
   "cell_type": "code",
   "execution_count": 10,
   "metadata": {},
   "outputs": [],
   "source": [
    "########  nor_rmse  ###########\n",
    "nor_rmse=mc.rmse(relative=True)\n",
    "# visualization -- for example: swvl1\n",
    "for var in nor_rmse.variable.values:\n",
    "    visualization.vis_zarr_map(nor_rmse, var, \n",
    "                            figure_path+'nor_rmse'\n",
    "                            ,1,99)"
   ]
  },
  {
   "cell_type": "code",
   "execution_count": 11,
   "metadata": {},
   "outputs": [],
   "source": [
    "########  acc  ###########\n",
    "acc1=mc.acc()\n",
    "# visualization -- for example: swvl1\n",
    "for var in acc1.variable.values:\n",
    "    visualization.vis_zarr_map(acc1, var, \n",
    "                            figure_path+'acc'\n",
    "                            ,1,99)"
   ]
  },
  {
   "cell_type": "markdown",
   "metadata": {},
   "source": [
    "### evaluation between models"
   ]
  },
  {
   "cell_type": "code",
   "execution_count": null,
   "metadata": {},
   "outputs": [],
   "source": [
    "# compare the results between two models\n",
    "# example in acc\n",
    "# start with ecland_i6aj_o400_2010_2022_6h_euro.zarr\n",
    "ecland_eval = xr.open_zarr(\"/data/ecland_i6aj_o400_2010_2022_6h_euro.zarr\").sel(time=slice(\"2021\", \"2022\"))  \n",
    "# train_ds = xr.open_zarr(\"/data/ecland_i6aj_o400_2010_2022_6h_euro.zarr\")  # Europe subset\n",
    "\n",
    "# load the ailand data as mod\n",
    "\n",
    "ailand_eval1 = xr.open_zarr(\"/data/ch23/data_ch23/euro_xgb_train_2010_2019_val_2020_2020_diagnostic_v2.zarr\").sel(time=slice(\"2021\", \"2022\"))  \n",
    "\n",
    "ailand_eval2 = xr.open_zarr(\"/data/ch23/data_ch23/euro_xgb_train_2010_2019_val_2020_2020_diagnostic_v2.zarr\").sel(time=slice(\"2021\", \"2022\"))  \n",
    "\n",
    "# define parameters\n",
    "\n",
    "mod2 = ailand_eval2\n",
    "\n",
    "path='/data/ch23/evalution_results/euro_xgb_train_2010_2019_val_2020_2020_diagnostic_v2/spatial/'\n",
    "path_png='/data/ch23/evalution_results/euro_xgb_train_2010_2019_val_2020_2020_diagnostic_v2/visualization/'\n",
    "\n",
    "mc=Metrics(mod2,ref,path)\n",
    "acc2=mc.acc()\n",
    "\n",
    "diff_acc=acc2-acc1\n",
    "\n",
    "# visualization -- save the diff between models\n",
    "for var in acc1.variable.values:\n",
    "    visualization.vis_zarr_map(acc1, var, \n",
    "                            figure_path\n",
    "                            ,1,99)\n"
   ]
  }
 ],
 "metadata": {
  "kernelspec": {
   "display_name": "ailand",
   "language": "python",
   "name": "ailand"
  },
  "language_info": {
   "codemirror_mode": {
    "name": "ipython",
    "version": 3
   },
   "file_extension": ".py",
   "mimetype": "text/x-python",
   "name": "python",
   "nbconvert_exporter": "python",
   "pygments_lexer": "ipython3",
   "version": "3.12.3"
  }
 },
 "nbformat": 4,
 "nbformat_minor": 2
}
