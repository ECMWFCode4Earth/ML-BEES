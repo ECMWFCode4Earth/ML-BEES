{
 "cells": [
  {
   "cell_type": "code",
   "execution_count": null,
   "metadata": {},
   "outputs": [],
   "source": [
    "import numpy as np\n",
    "import xarray as xr\n",
    "import matplotlib.pyplot as plt"
   ]
  },
  {
   "cell_type": "code",
   "execution_count": null,
   "metadata": {},
   "outputs": [],
   "source": [
    "# load the ecland data as ground truth\n",
    "\n",
    "# select 2021/2022 from Global dataset for the evaluation\n",
    "ecland_eval = xr.open_zarr(\"/data/ecland_i6aj_o400_2010_2022_6h_euro.zarr\").sel(time=slice(\"2021\", \"2022\"))  \n",
    "# train_ds = xr.open_zarr(\"/data/ecland_i6aj_o400_2010_2022_6h_euro.zarr\")  # Europe subset\n",
    "\n",
    "\n"
   ]
  },
  {
   "cell_type": "code",
   "execution_count": null,
   "metadata": {},
   "outputs": [],
   "source": [
    "clim_feat_lst = ['clim_clake',\n",
    "            'clim_ctype',\n",
    "            'clim_landsea',\n",
    "            'clim_cu',\n",
    "            'clim_cvh',\n",
    "            'clim_cvl',\n",
    "            'clim_geopot',\n",
    "            'clim_sdfor',\n",
    "            'clim_sdor',\n",
    "            # 'clim_sotype',\n",
    "            # 'clim_tvh',\n",
    "            # 'clim_tvl',\n",
    "            'clim_theta_cap',\n",
    "            'clim_theta_pwp',\n",
    "            'clim_veg_covh',\n",
    "            'clim_veg_covl',\n",
    "            'clim_veg_z0mh',\n",
    "            'clim_veg_z0ml',\n",
    "            'clim_veg_rsminh',\n",
    "            'clim_veg_rsminl']\n",
    "\n",
    "\n",
    "feat_lst = ['lai_hv', \n",
    "            'lai_lv', \n",
    "            'met_ctpf',\n",
    "            'met_lwdown',\n",
    "            'met_psurf',\n",
    "            'met_qair',\n",
    "            'met_rainf',\n",
    "            'met_swdown',\n",
    "            'met_snowf',\n",
    "            'met_tair',\n",
    "            'met_wind_e',\n",
    "            'met_wind_n',\n",
    "            'swvl1',\n",
    "            'swvl2',\n",
    "            'swvl3',\n",
    "            'stl1',\n",
    "            'stl2',\n",
    "            'stl3',\n",
    "            'snowc',\n",
    "           ]\n",
    "\n",
    "targ_lst = ['swvl1',\n",
    "            'swvl2',\n",
    "            'swvl3',\n",
    "            'stl1',\n",
    "            'stl2',\n",
    "            'stl3',\n",
    "            'snowc',\n",
    "           ]"
   ]
  },
  {
   "cell_type": "code",
   "execution_count": null,
   "metadata": {},
   "outputs": [],
   "source": [
    "clim_feats = (ds_test.sel(clim_variable=clim_feat_lst).clim_data\n",
    "                 .expand_dims(time=ds_test.time)\n",
    "                 .isel(x=5284, time=slice(0,-1))\n",
    "                 .rename({\"clim_variable\": \"variable\"})\n",
    ")\n",
    "feats = ds_test.sel(variable=feat_lst).isel(x=5284, time=slice(0,-1)).data\n",
    "\n",
    "feats = xr.concat((clim_feats, feats), dim=\"variable\")"
   ]
  },
  {
   "cell_type": "code",
   "execution_count": null,
   "metadata": {},
   "outputs": [],
   "source": [
    "# load the ML output data\n"
   ]
  },
  {
   "cell_type": "code",
   "execution_count": null,
   "metadata": {},
   "outputs": [],
   "source": [
    "# spatial visualization\n",
    "\n",
    "# Plotting soil moisture layer 1\n",
    "(train_ds\n",
    " .data\n",
    " .isel(time=0)\n",
    " .sel(variable=\"swvl1\").to_dataset()\n",
    " .plot.scatter(x=\"lon\", y=\"lat\", hue=\"data\", s=10, edgecolors=\"none\", figsize=(12,6))\n",
    ")\n",
    "plt.show()"
   ]
  }
 ],
 "metadata": {
  "language_info": {
   "name": "python"
  }
 },
 "nbformat": 4,
 "nbformat_minor": 2
}
