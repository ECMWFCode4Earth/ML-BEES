{
 "cells": [
  {
   "cell_type": "markdown",
   "metadata": {
    "tags": []
   },
   "source": [
    "# Running the emulator for inference\n",
    "\n",
    "In this notebook we run a version of the trained emulator in inference mode (`with torch.no_grad()`). We first run the emulator at a single point for a longer time series to judge how it does over long time horizons. Then we look at some global runs over a single independent year of data."
   ]
  },
  {
   "cell_type": "code",
   "execution_count": null,
   "metadata": {},
   "source": [
    "#import ai_land.model as model\n",
    "import ai_land.model_simple as model\n",
    "import ai_land.data_module as dm\n",
    "import xarray\n",
    "import numpy as np\n",
    "import torch\n",
    "import matplotlib.pyplot as plt\n",
    "\n",
    "def plot_timeseries(times, targets, predictions, x_idx, state_idx, label, ax):\n",
    "    \"\"\"Plots a time series for targets and predictions\n",
    "\n",
    "    :param times: times on x-axis\n",
    "    :param targets: ec-land model targets\n",
    "    :param predictions: emulator predictions\n",
    "    :param x_idx: spatial index to plot\n",
    "    :param state_idx: state vector index to plot\n",
    "    :param label: label for data variables\n",
    "    :param ax: axes on which to plot the figure\n",
    "    \"\"\"\n",
    "    ax.plot(times, targets[:, x_idx, state_idx].cpu().numpy(), label=\"ec-land\")\n",
    "    ax.plot(times, predictions[:, x_idx, state_idx].cpu().numpy(), '--', label=\"ai-land\")\n",
    "    ax.set_title(f\"target and prediction for {label}\")\n",
    "    ax.set_xlim([times[0], times[-1]])\n",
    "    ax.axvline(times[-334*4], color=\"k\", linestyle=\"--\")\n",
    "    ax.legend()\n",
    "\n",
    "if torch.cuda.is_available():\n",
    "    dev = \"cuda:0\"\n",
    "else:\n",
    "    dev = \"cpu\"\n",
    "device = torch.device(dev)\n",
    "dev"
   ],
   "outputs": []
  },
  {
   "cell_type": "code",
   "execution_count": null,
   "metadata": {
    "tags": []
   },
   "source": [
    "# Load a version of the dataclass\n",
    "dataset = dm.EcDataset(path=\"/data/ecland_i8ki_o200_2010_2022_6h.zarr\")"
   ],
   "outputs": []
  },
  {
   "cell_type": "code",
   "execution_count": null,
   "metadata": {
    "tags": []
   },
   "source": [
    "# Instanciate the Pytorch model\n",
    "input_clim_dim = dataset.x_static_scaled.shape[-1]\n",
    "input_met_dim = len(dataset.dynamic_feat_lst)\n",
    "input_state_dim = len(dataset.targ_lst)\n",
    "output_dim = len(dataset.targ_lst)  # Number of prognostic output targets\n",
    "output_diag_dim = len(dataset.targ_diag_lst) # Number of diagnostic output targets\n",
    "hidden_dim = 172  # 128  # 126\n",
    "model_pyt = model.NonLinearRegression(\n",
    "    input_clim_dim,\n",
    "    input_met_dim,\n",
    "    input_state_dim,\n",
    "    hidden_dim,\n",
    "    output_dim,\n",
    "    output_diag_dim,\n",
    "    dataset=dataset,\n",
    ")"
   ],
   "outputs": []
  },
  {
   "cell_type": "code",
   "execution_count": null,
   "metadata": {
    "tags": []
   },
   "source": [
    "len(dataset)"
   ],
   "outputs": []
  },
  {
   "cell_type": "code",
   "execution_count": null,
   "metadata": {
    "tags": []
   },
   "source": [
    "# Open up and load model checkpoint from example training run\n",
    "model_pyt.load_state_dict(torch.load(\"model.torch\")[\"state_dict\"])\n",
    "model_pyt = model_pyt.to(device)"
   ],
   "outputs": []
  },
  {
   "cell_type": "code",
   "execution_count": null,
   "metadata": {
    "tags": []
   },
   "source": [
    "# Open dataset for point validation\n",
    "dataset = dm.EcDataset(\n",
    "        start_yr=2018,\n",
    "        end_yr=2022,\n",
    "        # path=\"/ec/res4/scratch/daep/ec_training_db_out_O200/ecland_i8ki_2010_2022_6h.zarr\",\n",
    "        # roll_out=1,\n",
    "        # x_idxs = (9973, 9974)\n",
    "        path=\"/data/ecland_i6aj_o400_2010_2022_6h_euro.zarr\",\n",
    "        roll_out=1,\n",
    "        x_idxs = (5284, 5285)\n",
    "    )\n",
    "\n",
    "print(f\"Prognostic targets = {dataset.targ_lst}\")\n",
    "print(f\"Diagnostic targets = {dataset.targ_diag_lst}\")"
   ],
   "outputs": []
  },
  {
   "cell_type": "code",
   "execution_count": null,
   "metadata": {
    "tags": []
   },
   "source": [
    "# Load data and put it onto device\n",
    "clim_norm, met_norm, state_norm, state_diag_norm = [out_tensor.to(device) for out_tensor in dataset.load_data()]"
   ],
   "outputs": []
  },
  {
   "cell_type": "code",
   "execution_count": null,
   "metadata": {
    "tags": []
   },
   "source": [
    "%%time\n",
    "with torch.no_grad():\n",
    "    # run model\n",
    "    preds_norm, preds_diag_norm = model_pyt.predict_step(clim_norm, met_norm, state_norm, state_diag_norm)\n",
    "    \n",
    "    # inverse \"z\" tranform targets and predictions\n",
    "    preds = dataset.inv_transform(preds_norm, dataset.y_prog_means.to(dev), dataset.y_prog_stdevs.to(dev))\n",
    "    preds = torch.clip(preds, 0, None)\n",
    "    preds_diag = dataset.inv_transform(preds_diag_norm, dataset.y_diag_means.to(dev), dataset.y_diag_stdevs.to(dev))\n",
    "    state = dataset.inv_transform(state_norm, dataset.y_prog_means.to(dev), dataset.y_prog_stdevs.to(dev))\n",
    "    state_diag = dataset.inv_transform(state_diag_norm, dataset.y_diag_means.to(dev), dataset.y_diag_stdevs.to(dev))"
   ],
   "outputs": []
  },
  {
   "cell_type": "code",
   "execution_count": null,
   "metadata": {
    "tags": []
   },
   "source": [
    "# Plot some timeseries validation for a specific gridcell\n",
    "fig, ax = plt.subplots(nrows=3, ncols=3, figsize=(15,10))\n",
    "\n",
    "for i, var in enumerate(dataset.targ_lst):\n",
    "    axes = ax.flatten()[i]\n",
    "    plot_timeseries(dataset.times, state, preds, 0, i, var, axes)\n",
    "    \n",
    "ax.flatten()[-2].remove()\n",
    "ax.flatten()[-1].remove()\n",
    "fig.tight_layout()\n",
    "fig.autofmt_xdate()"
   ],
   "outputs": []
  },
  {
   "cell_type": "code",
   "execution_count": null,
   "metadata": {
    "tags": []
   },
   "source": [
    "# Plot diagnostic outputs for specific gridcell\n",
    "fig, ax = plt.subplots(nrows=1, ncols=3, figsize=(15,4))\n",
    "\n",
    "for i, var in enumerate(dataset.targ_diag_lst):\n",
    "    axes = ax.flatten()[i]\n",
    "    plot_timeseries(dataset.times, state_diag, preds_diag, 0, i, var, axes)\n",
    "\n",
    "fig.tight_layout()\n",
    "fig.autofmt_xdate()"
   ],
   "outputs": []
  },
  {
   "cell_type": "code",
   "execution_count": null,
   "metadata": {
    "tags": []
   },
   "source": [
    "# Open dataset for global 1-year run and run model\n",
    "dataset = dm.EcDataset(\n",
    "        start_yr=2022,\n",
    "        end_yr=2022,\n",
    "        path=\"/data/ecland_i8ki_o200_2010_2022_6h.zarr\",\n",
    "        roll_out=1,\n",
    "    )\n",
    "\n",
    "print(f\"Prognostic targets = {dataset.targ_lst}\")\n",
    "print(f\"Diagnostic targets = {dataset.targ_diag_lst}\")\n",
    "\n",
    "clim_norm, met_norm, state_norm, state_diag_norm = [out_tensor.to(device) for out_tensor in dataset.load_data()]\n",
    "\n",
    "with torch.no_grad():\n",
    "    # run model\n",
    "    preds_norm, preds_diag_norm = model_pyt.predict_step(clim_norm, met_norm, state_norm, state_diag_norm)\n",
    "    \n",
    "    # inverse \"z\" tranform targets and predictions\n",
    "    preds = dataset.inv_transform(preds_norm, dataset.y_prog_means.to(dev), dataset.y_prog_stdevs.to(dev))\n",
    "    preds = torch.clip(preds, 0, None)\n",
    "    preds_diag = dataset.inv_transform(preds_diag_norm, dataset.y_diag_means.to(dev), dataset.y_diag_stdevs.to(dev))\n",
    "    state = dataset.inv_transform(state_norm, dataset.y_prog_means.to(dev), dataset.y_prog_stdevs.to(dev))\n",
    "    state_diag = dataset.inv_transform(state_diag_norm, dataset.y_diag_means.to(dev), dataset.y_diag_stdevs.to(dev))"
   ],
   "outputs": []
  },
  {
   "cell_type": "code",
   "execution_count": null,
   "metadata": {
    "tags": []
   },
   "source": [
    "state_idx = 0\n",
    "t_idx = -10\n",
    "\n",
    "fig, ax = plt.subplots(nrows=2, ncols=1, figsize=(10, 8))\n",
    "\n",
    "c1 = ax[0].scatter(dataset.lons, dataset.lats, c=state[t_idx, :, state_idx].cpu().numpy(), vmin=0, vmax=0.7, s=2)\n",
    "ax[0].set_title(f\"ec-land {dataset.targ_lst[state_idx]} at {str(dataset.times[t_idx])[:13]}\")\n",
    "c2 = ax[1].scatter(dataset.lons, dataset.lats, c=preds[t_idx, :, state_idx].cpu().numpy(), vmin=0, vmax=0.7, s=2)\n",
    "ax[1].set_title(f\"ai-land {dataset.targ_lst[state_idx]} at {str(dataset.times[t_idx])[:13]}\")\n",
    "plt.colorbar(c1)\n",
    "plt.colorbar(c2)"
   ],
   "outputs": []
  },
  {
   "cell_type": "code",
   "execution_count": null,
   "metadata": {
    "tags": []
   },
   "source": [
    "state_idx = 3\n",
    "t_idx = -10\n",
    "\n",
    "fig, ax = plt.subplots(nrows=2, ncols=1, figsize=(10, 8))\n",
    "\n",
    "c1 = ax[0].scatter(dataset.lons, dataset.lats, c=state[t_idx, :, state_idx].cpu().numpy(), vmin=220, vmax=320.7, s=2)\n",
    "ax[0].set_title(f\"ec-land {dataset.targ_lst[state_idx]} at {str(dataset.times[t_idx])[:13]}\")\n",
    "c2 = ax[1].scatter(dataset.lons, dataset.lats, c=preds[t_idx, :, state_idx].cpu().numpy(), vmin=220, vmax=320.7, s=2)\n",
    "ax[1].set_title(f\"ai-land {dataset.targ_lst[state_idx]} at {str(dataset.times[t_idx])[:13]}\")\n",
    "plt.colorbar(c1)\n",
    "plt.colorbar(c2)"
   ],
   "outputs": []
  },
  {
   "cell_type": "code",
   "execution_count": null,
   "metadata": {
    "tags": []
   },
   "source": [
    "state_idx = 6\n",
    "t_idx = -100\n",
    "\n",
    "fig, ax = plt.subplots(nrows=2, ncols=1, figsize=(10, 8))\n",
    "\n",
    "c1 = ax[0].scatter(dataset.lons, dataset.lats, c=state[t_idx, :, state_idx].cpu().numpy(), vmin=0, vmax=100, s=2)\n",
    "ax[0].set_title(f\"ec-land {dataset.targ_lst[state_idx]} at {str(dataset.times[t_idx])[:13]}\")\n",
    "c2 = ax[1].scatter(dataset.lons, dataset.lats, c=preds[t_idx, :, state_idx].cpu().numpy(), vmin=0, vmax=100, s=2)\n",
    "ax[1].set_title(f\"ai-land {dataset.targ_lst[state_idx]} at {str(dataset.times[t_idx])[:13]}\")\n",
    "plt.colorbar(c1)\n",
    "plt.colorbar(c2)"
   ],
   "outputs": []
  },
  {
   "cell_type": "code",
   "execution_count": null,
   "metadata": {},
   "source": [],
   "outputs": []
  }
 ],
 "metadata": {
  "kernelspec": {
   "display_name": "Python 3 (ipykernel)",
   "language": "python",
   "name": "python3"
  },
  "language_info": {
   "codemirror_mode": {
    "name": "ipython",
    "version": 3
   },
   "file_extension": ".py",
   "mimetype": "text/x-python",
   "name": "python",
   "nbconvert_exporter": "python",
   "pygments_lexer": "ipython3",
   "version": "3.12.3"
  }
 },
 "nbformat": 4,
 "nbformat_minor": 4
}
