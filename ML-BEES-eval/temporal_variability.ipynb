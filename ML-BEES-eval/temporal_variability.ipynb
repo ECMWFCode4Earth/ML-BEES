{
 "cells": [
  {
   "cell_type": "markdown",
   "metadata": {},
   "source": [
    "This notebook performs some of the evaluation connected to the time domain:\n",
    "- Power spectra a computed for each variable and compared between a reference and emulated data set\n",
    "- Error metrics are conditioned on season (only bias for now)\n",
    "- Error metrics are conditioned on time of day, i.e., day (06-12 local time) and night (only bias for now)"
   ]
  },
  {
   "cell_type": "code",
   "execution_count": null,
   "metadata": {},
   "outputs": [],
   "source": [
    "import numpy as np\n",
    "import xarray as xr\n",
    "\n",
    "from eval_utilities import spatial_temporal_metrics as stm\n",
    "from eval_utilities import visualization as vis\n",
    "import matplotlib.pyplot as plt\n",
    "\n",
    "import cartopy.crs as ccrs\n",
    "import cartopy.feature as cfeature"
   ]
  },
  {
   "cell_type": "markdown",
   "metadata": {},
   "source": [
    "# Load Configuration"
   ]
  },
  {
   "cell_type": "code",
   "execution_count": null,
   "metadata": {},
   "outputs": [],
   "source": [
    "import yaml\n",
    "with open(f\"config.yaml\") as stream:\n",
    "    try:\n",
    "        CONFIG = yaml.safe_load(stream)\n",
    "    except yaml.YAMLError as exc:\n",
    "        print(exc)"
   ]
  },
  {
   "cell_type": "code",
   "execution_count": null,
   "metadata": {},
   "outputs": [],
   "source": [
    "ds_ref = xr.open_zarr(CONFIG[\"path_ec_euro\"]).sel(time=slice(\"2021-01-01T00\", \"2022-11-30T00\"))\n",
    "ds_mod = xr.open_zarr(CONFIG[\"path_xgb_v1\"]).sel(time=slice(\"2021-01-01T00\", \"2022-11-30T00\"))"
   ]
  },
  {
   "cell_type": "markdown",
   "metadata": {},
   "source": [
    "# Harmonic Analysis"
   ]
  },
  {
   "cell_type": "markdown",
   "metadata": {},
   "source": [
    "## Power Spectra"
   ]
  },
  {
   "cell_type": "markdown",
   "metadata": {},
   "source": [
    "Compute the power spectra of all variables conatined in both data sets. "
   ]
  },
  {
   "cell_type": "code",
   "execution_count": null,
   "metadata": {},
   "outputs": [],
   "source": [
    "# Path for saving the plots:\n",
    "path_png = \"/home/ch23/data_ch23/evalution_results/xgbosst_train_2010_2019_val_2020_2020_est_50_hist/visualization/spectrum\"\n",
    "\n",
    "# Loop through all variables contained in both data sets:\n",
    "common_vars = np.intersect1d(ds_ref.variable, ds_mod.variable)\n",
    "for var in common_vars:\n",
    "    vis.power_spectrum(ds_mod, ds_ref, var, path_png)"
   ]
  },
  {
   "cell_type": "markdown",
   "metadata": {},
   "source": [
    "## Spatial Maps"
   ]
  },
  {
   "cell_type": "code",
   "execution_count": null,
   "metadata": {},
   "outputs": [],
   "source": [
    "def plot_amplitude_map(data_ref, data_mod, path_png, freq_keyword):\n",
    "    \"\"\"\n",
    "    Helper function for plotting the spatial maps related to the harmonic analysis. \n",
    "    `freq_keyword` appears in the plot title and is made lower case for the file name.\n",
    "    \"\"\"\n",
    "    fig, axs = plt.subplots(1, 2, figsize=(12,4), subplot_kw={'projection': ccrs.PlateCarree()})\n",
    "    fig.suptitle(f\"Amplitude of {freq_keyword} Frequency for {var}\")\n",
    "\n",
    "    # Add map projection details:\n",
    "    for ax in axs:\n",
    "        ax.set_extent([ds_ref[\"lon\"].min(), ds_ref[\"lon\"].max(), \n",
    "                       ds_ref[\"lat\"].min(), ds_ref[\"lat\"].max()], crs=ccrs.PlateCarree())\n",
    "        ax.add_feature(cfeature.LAND)\n",
    "        ax.add_feature(cfeature.OCEAN)\n",
    "        ax.add_feature(cfeature.COASTLINE)\n",
    "        ax.add_feature(cfeature.BORDERS, linestyle=':')\n",
    "\n",
    "    im = axs[0].scatter(ds_ref.clim_data[\"lon\"], ds_ref.clim_data[\"lat\"], c=data_mod, edgecolor='none', s=10)\n",
    "    axs[0].set(title=\"Emulator\")\n",
    "    fig.colorbar(im, fraction=0.045, pad=0.04)\n",
    "\n",
    "    im = axs[1].scatter(ds_ref.clim_data[\"lon\"], ds_ref.clim_data[\"lat\"], c=data_ref, edgecolor='none', s=10)\n",
    "    axs[1].set(title=\"Reference\")\n",
    "    fig.colorbar(im, fraction=0.045, pad=0.04)\n",
    "\n",
    "    fig.savefig(f\"{path_png}_{var}_{freq_keyword.lower()}.png\", bbox_inches=\"tight\")"
   ]
  },
  {
   "cell_type": "code",
   "execution_count": null,
   "metadata": {},
   "outputs": [],
   "source": [
    "# Path for saving the plots:\n",
    "path_png = \"/home/ch23/data_ch23/evalution_results/xgbosst_train_2010_2019_val_2020_2020_est_50_hist/visualization/harmonic_analysis\"\n",
    "\n",
    "# Loop through all variables contained in both data sets:\n",
    "common_vars = np.intersect1d(ds_ref.variable, ds_mod.variable)\n",
    "for var in common_vars:\n",
    "    time_axis = np.where(np.array(ds_ref.data.sel(variable=var).shape) == len(ds_ref.time))[0][0]\n",
    "    fft_ref = np.fft.rfft(ds_ref.data.sel(variable=var), axis=time_axis)\n",
    "    fft_mod = np.fft.rfft(ds_mod.data.sel(variable=var), axis=time_axis)\n",
    "    freq = np.fft.rfftfreq(ds_ref.sizes[\"time\"], d=(ds_ref.time[1] - ds_ref.time[0]).item() / 1e9)\n",
    "\n",
    "    i_day = np.argmin(np.abs(freq - 1/(24*60*60)))\n",
    "    plot_amplitude_map(abs(fft_ref[i_day]), abs(fft_mod[i_day]), path_png, \"Diurnal\")\n",
    "    \n",
    "    i_month =  np.argmin(np.abs(freq - 1/(30*24*60*60)))\n",
    "    plot_amplitude_map(abs(fft_ref[i_month]), abs(fft_mod[i_month]), path_png, \"Monthly\")\n",
    "\n",
    "    i_season = np.argmin(np.abs(freq - 4/(365*24*60*60)))\n",
    "    plot_amplitude_map(abs(fft_ref[i_season]), abs(fft_mod[i_season]), path_png, \"Seasonal\")\n",
    "\n",
    "    i_year = np.argmin(np.abs(freq - 1/(365*24*60*60))) \n",
    "    plot_amplitude_map(abs(fft_ref[i_year]), abs(fft_mod[i_year]), path_png, \"Annual\")\n",
    "    "
   ]
  },
  {
   "cell_type": "markdown",
   "metadata": {},
   "source": [
    "# Condition on Season"
   ]
  },
  {
   "cell_type": "code",
   "execution_count": null,
   "metadata": {},
   "outputs": [],
   "source": [
    "season_masks = {\"DJF\": ds_ref[\"time\"].dt.month.isin([12,1,2]), \n",
    "                \"MAM\": ds_ref[\"time\"].dt.month.isin([3,4,5]),\n",
    "                \"JJA\": ds_ref[\"time\"].dt.month.isin([6,7,8]), \n",
    "                \"SON\": ds_ref[\"time\"].dt.month.isin([9,10,11])}"
   ]
  },
  {
   "cell_type": "code",
   "execution_count": null,
   "metadata": {},
   "outputs": [],
   "source": [
    "path_png = \"/home/ch23/data_ch23/evalution_results/xgbosst_train_2010_2019_val_2020_2020_est_50_hist/temporal\""
   ]
  },
  {
   "cell_type": "code",
   "execution_count": null,
   "metadata": {},
   "outputs": [],
   "source": [
    "#common_vars = [\"stl1\"] \n",
    "common_vars = np.intersect1d(ds_mod.variable, ds_ref.variable)\n",
    "\n",
    "for var in common_vars:\n",
    "    seasonal_results = np.full([4, ds_ref.sizes[\"x\"]], np.nan)\n",
    "\n",
    "    for i, sm in enumerate(season_masks.values()):\n",
    "        seasonal_results[i] = stm.bias(ds_mod.isel(time=sm), ds_ref.isel(time=sm), vars=var)\n",
    "\n",
    "    fig, ax = plt.subplots(figsize=(8, 6))\n",
    "\n",
    "    ax.boxplot(seasonal_results.T, labels=season_masks.keys())\n",
    "    ax.set_ylim(np.nanpercentile(seasonal_results, 0.05), np.nanpercentile(seasonal_results, 99.95))\n",
    "    ax.set(title=f\"{var} bias in different seasons\")\n",
    "    \n",
    "    fig.savefig(f\"{path_png}/bias_season_{var}.png\", bbox_inches=\"tight\")\n",
    "    #plt.show()"
   ]
  },
  {
   "cell_type": "code",
   "execution_count": null,
   "metadata": {},
   "outputs": [],
   "source": [
    "#common_vars = [\"stl1\"] \n",
    "common_vars = np.intersect1d(ds_mod.variable, ds_ref.variable)\n",
    "\n",
    "for var in common_vars:\n",
    "    seasonal_results = np.full([4, ds_ref.sizes[\"x\"]], np.nan)\n",
    "\n",
    "    for i, sm in enumerate(season_masks.values()):\n",
    "        seasonal_results[i] = stm.rmse(ds_mod.isel(time=sm), ds_ref.isel(time=sm), vars=var)\n",
    "\n",
    "    fig, ax = plt.subplots(figsize=(8, 6))\n",
    "\n",
    "    ax.boxplot(seasonal_results.T, labels=season_masks.keys())\n",
    "    ax.set_ylim(np.nanpercentile(seasonal_results, 0.05), np.nanpercentile(seasonal_results, 99.95))\n",
    "    ax.set(title=f\"{var} rmse in different seasons\")\n",
    "    \n",
    "    fig.savefig(f\"{path_png}/rmse_season_{var}.png\", bbox_inches=\"tight\")\n",
    "    #plt.show()"
   ]
  },
  {
   "cell_type": "markdown",
   "metadata": {},
   "source": [
    "# Condition on Time"
   ]
  },
  {
   "cell_type": "code",
   "execution_count": null,
   "metadata": {},
   "outputs": [],
   "source": [
    "standard_time = ds_ref[\"time\"].dt.hour.expand_dims(dim={\"x\": ds_ref[\"x\"]})\n",
    "\n",
    "local_time = standard_time - (4 * ds_ref[\"lon\"])/60. #the sun takes 4 min to traverse 1° longitude\n",
    "local_time = local_time.T % 24 #convert negative values\n",
    "\n",
    "day_mask = (local_time >= 6) & (local_time < 18)"
   ]
  },
  {
   "cell_type": "code",
   "execution_count": null,
   "metadata": {},
   "outputs": [],
   "source": [
    "#common_vars = [\"stl1\"] \n",
    "common_vars = np.intersect1d(ds_mod.variable, ds_ref.variable)\n",
    "\n",
    "for var in common_vars:\n",
    "    diurnal_results = np.full([2, ds_ref.sizes[\"x\"]], np.nan)\n",
    "\n",
    "    diurnal_results[0] = stm.bias(ds_mod.where(day_mask), ds_ref.where(day_mask), vars=var)\n",
    "    diurnal_results[1] = stm.bias(ds_mod.where(~day_mask), ds_ref.where(~day_mask), vars=var)\n",
    "\n",
    "    fig, ax = plt.subplots(figsize=(8, 6))\n",
    "\n",
    "    ax.boxplot(diurnal_results.T, labels=[\"day\",\"night\"])\n",
    "    ax.set_ylim(np.nanpercentile(diurnal_results, 0.05), np.nanpercentile(diurnal_results, 99.95))\n",
    "    ax.set(title=f\"{var} bias in different times of day\")\n",
    "\n",
    "    fig.savefig(f\"{path_png}/bias_diurnal_{var}.png\", bbox_inches=\"tight\")\n",
    "    #plt.show()"
   ]
  },
  {
   "cell_type": "code",
   "execution_count": null,
   "metadata": {},
   "outputs": [],
   "source": [
    "#common_vars = [\"stl1\"] \n",
    "common_vars = np.intersect1d(ds_mod.variable, ds_ref.variable)\n",
    "\n",
    "for var in common_vars:\n",
    "    diurnal_results = np.full([2, ds_ref.sizes[\"x\"]], np.nan)\n",
    "\n",
    "    diurnal_results[0] = stm.rmse(ds_mod.where(day_mask), ds_ref.where(day_mask), vars=var)\n",
    "    diurnal_results[1] = stm.rmse(ds_mod.where(~day_mask), ds_ref.where(~day_mask), vars=var)\n",
    "\n",
    "    fig, ax = plt.subplots(figsize=(8, 6))\n",
    "\n",
    "    ax.boxplot(diurnal_results.T, labels=[\"day\",\"night\"])\n",
    "    ax.set_ylim(np.nanpercentile(diurnal_results, 0.05), np.nanpercentile(diurnal_results, 99.95))\n",
    "    ax.set(title=f\"{var} rmse in different times of day\")\n",
    "\n",
    "    fig.savefig(f\"{path_png}/rmse_diurnal_{var}.png\", bbox_inches=\"tight\")\n",
    "    #plt.show()"
   ]
  },
  {
   "cell_type": "code",
   "execution_count": null,
   "metadata": {},
   "outputs": [],
   "source": []
  }
 ],
 "metadata": {
  "kernelspec": {
   "display_name": "Python 3",
   "language": "python",
   "name": "python3"
  },
  "language_info": {
   "codemirror_mode": {
    "name": "ipython",
    "version": 3
   },
   "file_extension": ".py",
   "mimetype": "text/x-python",
   "name": "python",
   "nbconvert_exporter": "python",
   "pygments_lexer": "ipython3",
   "version": "3.12.3"
  }
 },
 "nbformat": 4,
 "nbformat_minor": 2
}
