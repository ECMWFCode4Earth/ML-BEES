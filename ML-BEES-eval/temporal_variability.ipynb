{
 "cells": [
  {
   "cell_type": "markdown",
   "metadata": {},
   "source": [
    "This notebook performs some of the evaluation connected to the time domain:\n",
    "- Power spectra a computed for each variable and compared between a reference and emulated data set\n",
    "- Error metrics are conditioned on season (only bias for now)\n",
    "- Error metrics are conditioned on time of day, i.e., day (06-12 local time) and night (only bias for now)"
   ]
  },
  {
   "cell_type": "code",
   "execution_count": null,
   "metadata": {},
   "outputs": [],
   "source": [
    "import numpy as np\n",
    "import xarray as xr\n",
    "\n",
    "from eval_utilities import spatial_temporal_metrics as stm\n",
    "from eval_utilities import visualization as vis\n",
    "import matplotlib.pyplot as plt"
   ]
  },
  {
   "cell_type": "markdown",
   "metadata": {},
   "source": [
    "# Load Configuration"
   ]
  },
  {
   "cell_type": "code",
   "execution_count": null,
   "metadata": {},
   "outputs": [],
   "source": [
    "import yaml\n",
    "with open(f\"config.yaml\") as stream:\n",
    "    try:\n",
    "        CONFIG = yaml.safe_load(stream)\n",
    "    except yaml.YAMLError as exc:\n",
    "        print(exc)"
   ]
  },
  {
   "cell_type": "code",
   "execution_count": null,
   "metadata": {},
   "outputs": [],
   "source": [
    "ds_ref = xr.open_zarr(CONFIG[\"path_ec_euro\"]).sel(time=slice(\"2021-01-01T00\", \"2022-11-30T00\"))\n",
    "ds_mod = xr.open_zarr(CONFIG[\"path_xgb_v1\"]).sel(time=slice(\"2021-01-01T00\", \"2022-11-30T00\"))"
   ]
  },
  {
   "cell_type": "markdown",
   "metadata": {},
   "source": [
    "# Power Spectra"
   ]
  },
  {
   "cell_type": "markdown",
   "metadata": {},
   "source": [
    "Compute the power spectra of all variables conatined in both data sets. "
   ]
  },
  {
   "cell_type": "code",
   "execution_count": null,
   "metadata": {},
   "outputs": [],
   "source": [
    "# Path for saving the plots:\n",
    "path_png = \"/home/ch23/data_ch23/evalution_results/xgbosst_train_2010_2019_val_2020_2020_est_50_hist/visualization/spectrum\"\n",
    "\n",
    "# Loop through all variables contained in both data sets:\n",
    "common_vars = np.intersect1d(ds_ref.variable, ds_mod.variable)\n",
    "for var in common_vars:\n",
    "    vis.power_spectrum(ds_mod, ds_ref, var, path_png)"
   ]
  },
  {
   "cell_type": "markdown",
   "metadata": {},
   "source": [
    "# Condition on Season"
   ]
  },
  {
   "cell_type": "code",
   "execution_count": null,
   "metadata": {},
   "outputs": [],
   "source": [
    "season_masks = {\"DJF\": ds_ref[\"time\"].dt.month.isin([12,1,2]), \n",
    "                \"MAM\": ds_ref[\"time\"].dt.month.isin([3,4,5]),\n",
    "                \"JJA\": ds_ref[\"time\"].dt.month.isin([6,7,8]), \n",
    "                \"SON\": ds_ref[\"time\"].dt.month.isin([9,10,11])}"
   ]
  },
  {
   "cell_type": "code",
   "execution_count": null,
   "metadata": {},
   "outputs": [],
   "source": [
    "path_png = \"/home/ch23/data_ch23/evalution_results/xgbosst_train_2010_2019_val_2020_2020_est_50_hist/temporal\""
   ]
  },
  {
   "cell_type": "code",
   "execution_count": null,
   "metadata": {},
   "outputs": [],
   "source": [
    "#common_vars = [\"stl1\"] \n",
    "common_vars = np.intersect1d(ds_mod.variable, ds_ref.variable)\n",
    "\n",
    "for var in common_vars:\n",
    "    seasonal_results = np.full([4, ds_ref.sizes[\"x\"]], np.nan)\n",
    "\n",
    "    for i, sm in enumerate(season_masks.values()):\n",
    "        seasonal_results[i] = stm.bias(ds_mod.isel(time=sm), ds_ref.isel(time=sm), vars=var)\n",
    "\n",
    "    fig, ax = plt.subplots(figsize=(8, 6))\n",
    "\n",
    "    ax.boxplot(seasonal_results.T, labels=season_masks.keys())\n",
    "    ax.set_ylim(np.nanpercentile(seasonal_results, 0.05), np.nanpercentile(seasonal_results, 99.95))\n",
    "    ax.set(title=f\"{var} bias in different seasons\")\n",
    "    \n",
    "    fig.savefig(f\"{path_png}/bias_season_{var}.png\", bbox_inches=\"tight\")\n",
    "    #plt.show()"
   ]
  },
  {
   "cell_type": "code",
   "execution_count": null,
   "metadata": {},
   "outputs": [],
   "source": [
    "#common_vars = [\"stl1\"] \n",
    "common_vars = np.intersect1d(ds_mod.variable, ds_ref.variable)\n",
    "\n",
    "for var in common_vars:\n",
    "    seasonal_results = np.full([4, ds_ref.sizes[\"x\"]], np.nan)\n",
    "\n",
    "    for i, sm in enumerate(season_masks.values()):\n",
    "        seasonal_results[i] = stm.rmse(ds_mod.isel(time=sm), ds_ref.isel(time=sm), vars=var)\n",
    "\n",
    "    fig, ax = plt.subplots(figsize=(8, 6))\n",
    "\n",
    "    ax.boxplot(seasonal_results.T, labels=season_masks.keys())\n",
    "    ax.set_ylim(np.nanpercentile(seasonal_results, 0.05), np.nanpercentile(seasonal_results, 99.95))\n",
    "    ax.set(title=f\"{var} rmse in different seasons\")\n",
    "    \n",
    "    fig.savefig(f\"{path_png}/rmse_season_{var}.png\", bbox_inches=\"tight\")\n",
    "    #plt.show()"
   ]
  },
  {
   "cell_type": "markdown",
   "metadata": {},
   "source": [
    "# Condition on Time"
   ]
  },
  {
   "cell_type": "code",
   "execution_count": null,
   "metadata": {},
   "outputs": [],
   "source": [
    "standard_time = ds_ref[\"time\"].dt.hour.expand_dims(dim={\"x\": ds_ref[\"x\"]})\n",
    "\n",
    "local_time = standard_time - (4 * ds_ref[\"lon\"])/60. #the sun takes 4 min to traverse 1° longitude\n",
    "local_time = local_time.T % 24 #convert negative values\n",
    "\n",
    "day_mask = (local_time >= 6) & (local_time < 18)"
   ]
  },
  {
   "cell_type": "code",
   "execution_count": null,
   "metadata": {},
   "outputs": [],
   "source": [
    "#common_vars = [\"stl1\"] \n",
    "common_vars = np.intersect1d(ds_mod.variable, ds_ref.variable)\n",
    "\n",
    "for var in common_vars:\n",
    "    diurnal_results = np.full([2, ds_ref.sizes[\"x\"]], np.nan)\n",
    "\n",
    "    diurnal_results[0] = stm.bias(ds_mod.where(day_mask), ds_ref.where(day_mask), vars=var)\n",
    "    diurnal_results[1] = stm.bias(ds_mod.where(~day_mask), ds_ref.where(~day_mask), vars=var)\n",
    "\n",
    "    fig, ax = plt.subplots(figsize=(8, 6))\n",
    "\n",
    "    ax.boxplot(diurnal_results.T, labels=[\"day\",\"night\"])\n",
    "    ax.set_ylim(np.nanpercentile(diurnal_results, 0.05), np.nanpercentile(diurnal_results, 99.95))\n",
    "    ax.set(title=f\"{var} bias in different times of day\")\n",
    "\n",
    "    fig.savefig(f\"{path_png}/bias_diurnal_{var}.png\", bbox_inches=\"tight\")\n",
    "    #plt.show()"
   ]
  },
  {
   "cell_type": "code",
   "execution_count": null,
   "metadata": {},
   "outputs": [],
   "source": [
    "#common_vars = [\"stl1\"] \n",
    "common_vars = np.intersect1d(ds_mod.variable, ds_ref.variable)\n",
    "\n",
    "for var in common_vars:\n",
    "    diurnal_results = np.full([2, ds_ref.sizes[\"x\"]], np.nan)\n",
    "\n",
    "    diurnal_results[0] = stm.rmse(ds_mod.where(day_mask), ds_ref.where(day_mask), vars=var)\n",
    "    diurnal_results[1] = stm.rmse(ds_mod.where(~day_mask), ds_ref.where(~day_mask), vars=var)\n",
    "\n",
    "    fig, ax = plt.subplots(figsize=(8, 6))\n",
    "\n",
    "    ax.boxplot(diurnal_results.T, labels=[\"day\",\"night\"])\n",
    "    ax.set_ylim(np.nanpercentile(diurnal_results, 0.05), np.nanpercentile(diurnal_results, 99.95))\n",
    "    ax.set(title=f\"{var} rmse in different times of day\")\n",
    "\n",
    "    fig.savefig(f\"{path_png}/rmse_diurnal_{var}.png\", bbox_inches=\"tight\")\n",
    "    #plt.show()"
   ]
  },
  {
   "cell_type": "code",
   "execution_count": null,
   "metadata": {},
   "outputs": [],
   "source": []
  }
 ],
 "metadata": {
  "kernelspec": {
   "display_name": "Python 3",
   "language": "python",
   "name": "python3"
  },
  "language_info": {
   "codemirror_mode": {
    "name": "ipython",
    "version": 3
   },
   "file_extension": ".py",
   "mimetype": "text/x-python",
   "name": "python",
   "nbconvert_exporter": "python",
   "pygments_lexer": "ipython3",
   "version": "3.12.3"
  }
 },
 "nbformat": 4,
 "nbformat_minor": 2
}
