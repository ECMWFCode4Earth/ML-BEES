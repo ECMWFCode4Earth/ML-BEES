{
 "cells": [
  {
   "cell_type": "markdown",
   "metadata": {},
   "source": [
    "This notebook performs some of the evaluation connected to the time domain:\n",
    "- Power spectra a computed for each variable and compared between a reference and emulated data set\n",
    "- Error metrics are conditioned on season (only bias for now)\n",
    "- Error metrics are conditioned on time of day, i.e., day (06-12 local time) and night (only bias for now)\n",
    "\n",
    "Note that the spectra and amplitude maps are also generated in the automatic workflow. This notebook (as is) will only visualize the results, but not save the plots. You could change this behavior by setting \"show=False\" in the respective calls to the visualization utilities.\n",
    "\n",
    "This notebook will produce a lot of figures. Consider restricting the number of analyzed variables."
   ]
  },
  {
   "cell_type": "code",
   "execution_count": null,
   "metadata": {},
   "outputs": [],
   "source": [
    "import numpy as np\n",
    "import xarray as xr\n",
    "\n",
    "from eval_utilities import spatial_temporal_metrics as stm\n",
    "from eval_utilities import visualization as vis\n",
    "import matplotlib.pyplot as plt\n",
    "\n",
    "import cartopy.crs as ccrs\n",
    "import cartopy.feature as cfeature"
   ]
  },
  {
   "cell_type": "markdown",
   "metadata": {},
   "source": [
    "# Load Configuration"
   ]
  },
  {
   "cell_type": "code",
   "execution_count": 2,
   "metadata": {},
   "outputs": [],
   "source": [
    "import yaml\n",
    "with open(f\"config.yaml\") as stream:\n",
    "    try:\n",
    "        CONFIG = yaml.safe_load(stream)\n",
    "    except yaml.YAMLError as exc:\n",
    "        print(exc)"
   ]
  },
  {
   "cell_type": "markdown",
   "metadata": {},
   "source": [
    "Choose model to analyze:"
   ]
  },
  {
   "cell_type": "code",
   "execution_count": 32,
   "metadata": {},
   "outputs": [],
   "source": [
    "model = \"xgb_v3\"\n",
    "\n",
    "ds_ref = xr.open_zarr(CONFIG[\"path_ec_euro\"]).sel(time=slice(\"2021-01-01T00\", \"2022-11-30T00\"))\n",
    "ds_mod = xr.open_zarr(CONFIG[\"inf_paths\"][model]).sel(time=slice(\"2021-01-01T00\", \"2022-11-30T00\"))"
   ]
  },
  {
   "cell_type": "markdown",
   "metadata": {},
   "source": [
    "# Harmonic Analysis"
   ]
  },
  {
   "cell_type": "markdown",
   "metadata": {},
   "source": [
    "## Power Spectra"
   ]
  },
  {
   "cell_type": "markdown",
   "metadata": {},
   "source": [
    "Compute the power spectra of all variables conatined in both data sets."
   ]
  },
  {
   "cell_type": "code",
   "execution_count": null,
   "metadata": {},
   "outputs": [],
   "source": [
    "# Path for saving the plots:\n",
    "path_png = CONFIG[\"eval_paths\"][model] + \"/visualization/spectrum\"\n",
    "\n",
    "# Loop through all variables contained in both data sets:\n",
    "common_vars = np.intersect1d(ds_ref.variable, ds_mod.variable)\n",
    "for var in common_vars:\n",
    "    vis.power_spectrum(ds_mod, ds_ref, var, path_png, show=True)"
   ]
  },
  {
   "cell_type": "markdown",
   "metadata": {},
   "source": [
    "## Spatial Maps"
   ]
  },
  {
   "cell_type": "markdown",
   "metadata": {},
   "source": [
    "Visually compare the spatial amplitude variations at a specific frequency."
   ]
  },
  {
   "cell_type": "code",
   "execution_count": null,
   "metadata": {},
   "outputs": [],
   "source": [
    "# Path for saving the plots:\n",
    "path_png = CONFIG[\"eval_paths\"][model] + \"/visualization/harmonic_analysis\"\n",
    "\n",
    "# Loop through all variables contained in both data sets:\n",
    "common_vars = np.intersect1d(ds_ref.variable, ds_mod.variable)\n",
    "for var in common_vars:\n",
    "    time_axis = np.where(np.array(ds_ref.data.sel(variable=var).shape) == len(ds_ref.time))[0][0]\n",
    "    fft_ref = np.fft.rfft(ds_ref.data.sel(variable=var), axis=time_axis)\n",
    "    fft_mod = np.fft.rfft(ds_mod.data.sel(variable=var), axis=time_axis)\n",
    "    freq = np.fft.rfftfreq(ds_ref.sizes[\"time\"], d=(ds_ref.time[1] - ds_ref.time[0]).item() / 1e9)\n",
    "\n",
    "    i_day = np.argmin(np.abs(freq - 1/(24*60*60)))\n",
    "    vis.plot_amplitude_map(abs(fft_ref[i_day]), abs(fft_mod[i_day]), path_png, \"Diurnal\", ds_ref, var, show=True)\n",
    "    \n",
    "    i_month =  np.argmin(np.abs(freq - 1/(30*24*60*60)))\n",
    "    vis.plot_amplitude_map(abs(fft_ref[i_month]), abs(fft_mod[i_month]), path_png, \"Monthly\", ds_ref, var, show=True)\n",
    "\n",
    "    i_season = np.argmin(np.abs(freq - 4/(365*24*60*60)))\n",
    "    vis.plot_amplitude_map(abs(fft_ref[i_season]), abs(fft_mod[i_season]), path_png, \"Seasonal\", ds_ref, var, show=True)\n",
    "\n",
    "    i_year = np.argmin(np.abs(freq - 1/(365*24*60*60))) \n",
    "    vis.plot_amplitude_map(abs(fft_ref[i_year]), abs(fft_mod[i_year]), path_png, \"Annual\", ds_ref, var, show=True)\n",
    "    "
   ]
  },
  {
   "cell_type": "markdown",
   "metadata": {},
   "source": [
    "# Condition on Season"
   ]
  },
  {
   "cell_type": "markdown",
   "metadata": {},
   "source": [
    "We included two ways to visualize this. The boxplot version suffers from a great number of outliers, so histograms made more sense here as day and night only give two categories and although it is less ideal for the seasonality. For a dataset with higher than 6h resolution, it might be worthwile to have more categories. In that case boxplots might be preferable. "
   ]
  },
  {
   "cell_type": "code",
   "execution_count": 26,
   "metadata": {},
   "outputs": [],
   "source": [
    "metric = \"bias\" # bias or rmse\n",
    "style = \"hist\" # hist or box"
   ]
  },
  {
   "cell_type": "code",
   "execution_count": 27,
   "metadata": {},
   "outputs": [],
   "source": [
    "season_masks = {\"DJF\": ds_ref[\"time\"].dt.month.isin([12,1,2]), \n",
    "                \"MAM\": ds_ref[\"time\"].dt.month.isin([3,4,5]),\n",
    "                \"JJA\": ds_ref[\"time\"].dt.month.isin([6,7,8]), \n",
    "                \"SON\": ds_ref[\"time\"].dt.month.isin([9,10,11])}"
   ]
  },
  {
   "cell_type": "code",
   "execution_count": null,
   "metadata": {},
   "outputs": [],
   "source": [
    "path_png = CONFIG[\"eval_paths\"][model] + \"/visualization/\"\n",
    "common_vars = np.intersect1d(ds_mod.variable, ds_ref.variable)\n",
    "\n",
    "for var in common_vars:\n",
    "    seasonal_results = np.full([4, ds_ref.sizes[\"x\"]], np.nan)\n",
    "\n",
    "    if metric == \"bias\":\n",
    "        for i, sm in enumerate(season_masks.values()):\n",
    "            seasonal_results[i] = stm.bias(ds_mod.isel(time=sm), ds_ref.isel(time=sm), vars=var)\n",
    "    elif metric == \"rmse\":\n",
    "        for i, sm in enumerate(season_masks.values()):\n",
    "            seasonal_results[i] = stm.rmse(ds_mod.isel(time=sm), ds_ref.isel(time=sm), vars=var)\n",
    "    else:\n",
    "        print(\"Metric not available.\")\n",
    "        break\n",
    "\n",
    "    fig, ax = plt.subplots(figsize=(8, 6))\n",
    "    \n",
    "    if style == \"box\":\n",
    "        ax.boxplot(seasonal_results.T, labels=season_masks.keys())\n",
    "        ax.set_ylim(np.nanpercentile(seasonal_results, 0.05), np.nanpercentile(seasonal_results, 99.95))\n",
    "    elif style == \"hist\":\n",
    "        _, bins, _ = ax.hist(seasonal_results[0], bins=20, label=\"DJF\", alpha=0.5, density=True)\n",
    "        _ = ax.hist(seasonal_results[1], bins=bins, label=\"MAM\", alpha=0.5, density=True)\n",
    "        _ = ax.hist(seasonal_results[2], bins=bins, label=\"JJA\", alpha=0.5, density=True)\n",
    "        _ = ax.hist(seasonal_results[3], bins=bins, label=\"SON\", alpha=0.5, density=True)\n",
    "    else:\n",
    "        print(\"Visualization style not available.\")\n",
    "        break\n",
    "    \n",
    "    ax.set(title=f\"{var} {metric} in different seasons\")\n",
    "    plt.legend()\n",
    "    \n",
    "    #fig.savefig(f\"{path_png}/bias_season_{var}.png\", bbox_inches=\"tight\")\n",
    "    plt.show()"
   ]
  },
  {
   "cell_type": "markdown",
   "metadata": {},
   "source": [
    "# Condition on Time"
   ]
  },
  {
   "cell_type": "code",
   "execution_count": 35,
   "metadata": {},
   "outputs": [],
   "source": [
    "metric = \"rmse\" # bias or rmse\n",
    "style = \"hist\" # hist or box"
   ]
  },
  {
   "cell_type": "markdown",
   "metadata": {},
   "source": [
    "Work out the local times to assign night and day correctly:"
   ]
  },
  {
   "cell_type": "code",
   "execution_count": 36,
   "metadata": {},
   "outputs": [],
   "source": [
    "standard_time = ds_ref[\"time\"].dt.hour.expand_dims(dim={\"x\": ds_ref[\"x\"]})\n",
    "\n",
    "local_time = standard_time - (4 * ds_ref[\"lon\"])/60. #the sun takes 4 min to traverse 1° longitude\n",
    "local_time = local_time.T % 24 #convert negative values\n",
    "\n",
    "day_mask = (local_time >= 6) & (local_time < 18)"
   ]
  },
  {
   "cell_type": "code",
   "execution_count": 37,
   "metadata": {},
   "outputs": [],
   "source": [
    "path_png = CONFIG[\"eval_paths\"][model] + \"/visualization/\"\n",
    "common_vars = np.intersect1d(ds_mod.variable, ds_ref.variable)\n",
    "\n",
    "for var in common_vars:\n",
    "    diurnal_results = np.full([2, ds_ref.sizes[\"x\"]], np.nan)\n",
    "\n",
    "    if metric == \"bias\":\n",
    "        diurnal_results[0] = stm.bias(ds_mod.where(day_mask), ds_ref.where(day_mask), vars=var)\n",
    "        diurnal_results[1] = stm.bias(ds_mod.where(~day_mask), ds_ref.where(~day_mask), vars=var)\n",
    "    elif metric == \"rmse\":\n",
    "        diurnal_results[0] = stm.rmse(ds_mod.where(day_mask), ds_ref.where(day_mask), vars=var)\n",
    "        diurnal_results[1] = stm.rmse(ds_mod.where(~day_mask), ds_ref.where(~day_mask), vars=var)\n",
    "    else:\n",
    "        print(\"Metric not available.\")\n",
    "        break\n",
    "        \n",
    "    fig, ax = plt.subplots(figsize=(8, 6))\n",
    "\n",
    "    if style == \"box\":\n",
    "        ax.boxplot(diurnal_results.T, labels=[\"day\",\"night\"])\n",
    "        ax.set_ylim(np.nanpercentile(diurnal_results, 0.05), np.nanpercentile(diurnal_results, 99.95))\n",
    "    elif style == \"hist\":\n",
    "        _, bins, _ = ax.hist(diurnal_results[0], bins=20, label=\"day\", alpha=0.5, density=True)\n",
    "        _ = ax.hist(diurnal_results[1], bins=bins, label=\"night\", alpha=0.5, density=True)\n",
    "    else:\n",
    "        print(\"Visualization style not available.\")\n",
    "        break\n",
    "\n",
    "    ax.set(title=f\"{var} {metric} in different times of day\")\n",
    "    plt.legend()\n",
    "\n",
    "    #fig.savefig(f\"{path_png}/bias_diurnal_{var}.png\", bbox_inches=\"tight\")\n",
    "    plt.show()"
   ]
  },
  {
   "cell_type": "code",
   "execution_count": null,
   "metadata": {},
   "outputs": [],
   "source": []
  }
 ],
 "metadata": {
  "kernelspec": {
   "display_name": "Python 3",
   "language": "python",
   "name": "python3"
  },
  "language_info": {
   "codemirror_mode": {
    "name": "ipython",
    "version": 3
   },
   "file_extension": ".py",
   "mimetype": "text/x-python",
   "name": "python",
   "nbconvert_exporter": "python",
   "pygments_lexer": "ipython3",
   "version": "3.12.3"
  }
 },
 "nbformat": 4,
 "nbformat_minor": 2
}
