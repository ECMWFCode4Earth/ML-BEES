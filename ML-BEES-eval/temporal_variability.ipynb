{
 "cells": [
  {
   "cell_type": "code",
   "execution_count": null,
   "metadata": {},
   "outputs": [],
   "source": [
    "import numpy as np\n",
    "import xarray as xr\n",
    "\n",
    "from eval_utilities import spatial_temporal_metrics as stm\n",
    "from eval_utilities import visualization as vis\n",
    "import matplotlib.pyplot as plt"
   ]
  },
  {
   "cell_type": "markdown",
   "metadata": {},
   "source": [
    "# Load Configuration"
   ]
  },
  {
   "cell_type": "code",
   "execution_count": null,
   "metadata": {},
   "outputs": [],
   "source": [
    "import yaml\n",
    "with open(f\"config.yaml\") as stream:\n",
    "    try:\n",
    "        CONFIG = yaml.safe_load(stream)\n",
    "    except yaml.YAMLError as exc:\n",
    "        print(exc)"
   ]
  },
  {
   "cell_type": "code",
   "execution_count": null,
   "metadata": {},
   "outputs": [],
   "source": [
    "ds_ref = xr.open_zarr(CONFIG[\"path_ec_euro\"]).sel(time=slice(\"2021-01-01T00\", \"2022-11-30T00\"))\n",
    "ds_mod = xr.open_zarr(CONFIG[\"path_xgb_v1\"]).sel(time=slice(\"2021-01-01T00\", \"2022-11-30T00\"))"
   ]
  },
  {
   "cell_type": "markdown",
   "metadata": {},
   "source": [
    "# Example time series"
   ]
  },
  {
   "cell_type": "code",
   "execution_count": null,
   "metadata": {},
   "outputs": [],
   "source": [
    "fname = f\"/home/ch23/data_ch23/evalution_results/xgbosst_train_2010_2019_val_2020_2020_est_50_hist/spatial/bias.zarr\"\n",
    "ds_bias = xr.open_zarr(fname)"
   ]
  },
  {
   "cell_type": "code",
   "execution_count": null,
   "metadata": {},
   "outputs": [],
   "source": [
    "fig, ax = plt.subplots(figsize=(12, 6))\n",
    "\n",
    "vmin = np.nanpercentile(ds_bias.sel(variable=\"stl1\").data, 1, axis=0)\n",
    "vmax = np.nanpercentile(ds_bias.sel(variable=\"stl1\").data, 99, axis=0)\n",
    "im = ax.scatter(ds_bias[\"lon\"], ds_bias[\"lat\"], c=ds_bias.sel(variable=\"stl1\").data, s=10, vmin=vmin, vmax=vmax)\n",
    "fig.colorbar(im)\n",
    "\n",
    "plt.show()"
   ]
  },
  {
   "cell_type": "code",
   "execution_count": null,
   "metadata": {},
   "outputs": [],
   "source": [
    "i = ds_bias.sel(variable=\"swvl1\").data.argmax(dim=\"x\").values"
   ]
  },
  {
   "cell_type": "code",
   "execution_count": null,
   "metadata": {},
   "outputs": [],
   "source": [
    "plt.plot(ds_ref.sel(variable=\"swvl1\").data.isel(x=i), label=\"ref\")\n",
    "plt.plot(ds_mod.sel(variable=\"swvl1\").data.isel(x=i), label=\"mod\")\n",
    "plt.legend()\n",
    "plt.show()"
   ]
  },
  {
   "cell_type": "markdown",
   "metadata": {},
   "source": [
    "# Power Spectra"
   ]
  },
  {
   "cell_type": "markdown",
   "metadata": {},
   "source": [
    "Compute the power spectra of all variables conatined in both data sets. "
   ]
  },
  {
   "cell_type": "code",
   "execution_count": null,
   "metadata": {},
   "outputs": [],
   "source": [
    "# Path for saving the plots:\n",
    "path_png = \"/home/ch23/data_ch23/evalution_results/xgbosst_train_2010_2019_val_2020_2020_est_50_hist/visualization/spectrum\"\n",
    "\n",
    "# Loop through all variables contained in both data sets:\n",
    "common_vars = np.intersect1d(ds_ref.variable, ds_mod.variable)\n",
    "for var in common_vars:\n",
    "    vis.power_spectrum(ds_mod, ds_ref, var, path_png)"
   ]
  },
  {
   "cell_type": "markdown",
   "metadata": {},
   "source": [
    "# Condition on Season"
   ]
  },
  {
   "cell_type": "code",
   "execution_count": null,
   "metadata": {},
   "outputs": [],
   "source": [
    "season_masks = {\"DJF\": ds_ref[\"time\"].dt.month.isin([12,1,2]), \n",
    "                \"MAM\": ds_ref[\"time\"].dt.month.isin([3,4,5]),\n",
    "                \"JJA\": ds_ref[\"time\"].dt.month.isin([6,7,8]), \n",
    "                \"SON\": ds_ref[\"time\"].dt.month.isin([9,10,11])}"
   ]
  },
  {
   "cell_type": "code",
   "execution_count": null,
   "metadata": {},
   "outputs": [],
   "source": [
    "#common_vars = [\"stl1\"] \n",
    "common_vars = np.intersect1d(ds_mod.variable, ds_ref.variable)\n",
    "\n",
    "for var in common_vars:\n",
    "    seasonal_results = np.full([4, ds_ref.sizes[\"x\"]], np.nan)\n",
    "\n",
    "    for i, sm in enumerate(season_masks.values()):\n",
    "        seasonal_results[i] = stm.bias(ds_mod.isel(time=sm), ds_ref.isel(time=sm), vars=var)\n",
    "\n",
    "    fig, ax = plt.subplots(figsize=(12, 6))\n",
    "\n",
    "    ax.boxplot(seasonal_results.T, labels=season_masks.keys())\n",
    "    ax.set_ylim(np.nanpercentile(seasonal_results, 0.05), np.nanpercentile(seasonal_results, 99.95))\n",
    "    ax.set(title=f\"{var} bias in different seasons\")\n",
    "\n",
    "    plt.show()"
   ]
  },
  {
   "cell_type": "code",
   "execution_count": null,
   "metadata": {},
   "outputs": [],
   "source": [
    "\n",
    "ii = np.random.randint(low=0, high=ds_ref.sizes[\"x\"], size=20)\n",
    "\n",
    "for i in ii:\n",
    "    fig, ax = plt.subplots(figsize=(12, 6))\n",
    "    \n",
    "    #ax.plot(ds_ref.rolling(time=7).mean()[\"time\"], ds_ref.sel(variable=var).data.isel(x=i).rolling(time=7).mean(), label=\"ref\")\n",
    "    #ax.plot(ds_mod.rolling(time=7).mean()[\"time\"], ds_mod.sel(variable=var).data.isel(x=i).rolling(time=7).mean(), label=\"mod\")\n",
    "    err = (ds_mod.sel(variable=var).data.isel(x=i) - ds_ref.sel(variable=var).data.isel(x=i))#.rolling(time=7).mean()\n",
    "    ax.plot(err[\"time\"], err)\n",
    "    #plt.legend()\n",
    "    plt.show()\n",
    "\n",
    "    for key in season_masks:\n",
    "        season_bias = stm.bias(ds_mod.isel(time=season_masks[key], x=i), ds_ref.isel(time=season_masks[key], x=i), vars=var).values\n",
    "        print(f\"{key}\\t{season_bias:.2f}\")"
   ]
  },
  {
   "cell_type": "markdown",
   "metadata": {},
   "source": [
    "# Condition on time"
   ]
  },
  {
   "cell_type": "code",
   "execution_count": null,
   "metadata": {},
   "outputs": [],
   "source": [
    "standard_time = ds_ref[\"time\"].dt.hour.expand_dims(dim={\"x\": ds_ref[\"x\"]})\n",
    "\n",
    "local_time = standard_time - (4 * ds_ref[\"lon\"])/60. #the sun takes 4 min to traverse 1° longitude\n",
    "local_time = local_time.T % 24 #convert negative values\n",
    "\n",
    "day_mask = (local_time >= 6) & (local_time < 18)"
   ]
  },
  {
   "cell_type": "code",
   "execution_count": null,
   "metadata": {},
   "outputs": [],
   "source": [
    "#common_vars = [\"stl1\"] \n",
    "common_vars = np.intersect1d(ds_mod.variable, ds_ref.variable)\n",
    "\n",
    "for var in common_vars:\n",
    "    diurnal_results = np.full([2, ds_ref.sizes[\"x\"]], np.nan)\n",
    "\n",
    "    diurnal_results[0] = stm.bias(ds_mod.where(day_mask), ds_ref.where(day_mask), vars=var)\n",
    "    diurnal_results[1] = stm.bias(ds_mod.where(~day_mask), ds_ref.where(~day_mask), vars=var)\n",
    "\n",
    "    fig, ax = plt.subplots(figsize=(12, 6))\n",
    "\n",
    "    ax.boxplot(diurnal_results.T, labels=[\"day\",\"night\"])\n",
    "    ax.set_ylim(np.nanpercentile(diurnal_results, 0.05), np.nanpercentile(diurnal_results, 99.95))\n",
    "    ax.set(title=f\"{var} bias in different times of day\")\n",
    "\n",
    "    plt.show()"
   ]
  },
  {
   "cell_type": "code",
   "execution_count": null,
   "metadata": {},
   "outputs": [],
   "source": []
  }
 ],
 "metadata": {
  "kernelspec": {
   "display_name": "Python 3",
   "language": "python",
   "name": "python3"
  },
  "language_info": {
   "codemirror_mode": {
    "name": "ipython",
    "version": 3
   },
   "file_extension": ".py",
   "mimetype": "text/x-python",
   "name": "python",
   "nbconvert_exporter": "python",
   "pygments_lexer": "ipython3",
   "version": "3.12.3"
  }
 },
 "nbformat": 4,
 "nbformat_minor": 2
}
