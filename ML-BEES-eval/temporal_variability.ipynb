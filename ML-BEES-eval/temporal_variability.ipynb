{
 "cells": [
  {
   "cell_type": "code",
   "execution_count": null,
   "metadata": {},
   "outputs": [],
   "source": [
    "import numpy as np\n",
    "import xarray as xr\n",
    "\n",
    "from eval_utilities import metrics\n",
    "import matplotlib.pyplot as plt"
   ]
  },
  {
   "cell_type": "code",
   "execution_count": null,
   "metadata": {},
   "outputs": [],
   "source": [
    "import yaml\n",
    "with open(f\"config.yaml\") as stream:\n",
    "    try:\n",
    "        CONFIG = yaml.safe_load(stream)\n",
    "    except yaml.YAMLError as exc:\n",
    "        print(exc)"
   ]
  },
  {
   "cell_type": "code",
   "execution_count": null,
   "metadata": {},
   "outputs": [],
   "source": [
    "ds = xr.open_zarr(CONFIG[\"path_ec_euro\"])"
   ]
  },
  {
   "cell_type": "code",
   "execution_count": null,
   "metadata": {},
   "outputs": [],
   "source": [
    "fft_t2m = np.fft.fft(ds.data.sel(variable=\"t2m\"), axis=0)\n",
    "fft_gpp = np.fft.fft(ds.data.sel(variable=\"aco2gpp\"), axis=0)\n",
    "freq = np.fft.fftfreq(ds.sizes[\"time\"], d=6*60*60)\n",
    "mask = freq > 0"
   ]
  },
  {
   "cell_type": "code",
   "execution_count": null,
   "metadata": {},
   "outputs": [],
   "source": [
    "fig, ax = plt.subplots()\n",
    "fig.tight_layout()\n",
    "\n",
    "# Day:\n",
    "ax.axvline(1/(24*60*60), color=\"tab:grey\", ls=\"dashed\")\n",
    "ax.text(1/(24*60*60), 0.99, 'day', color='tab:grey', ha='right', va='top', rotation=90, transform=ax.get_xaxis_transform())\n",
    "\n",
    "# Month:\n",
    "ax.axvline(1/(30*24*60*60), color=\"tab:grey\", ls=\"dashed\")\n",
    "ax.text(1/(30*24*60*60), 0.99, 'month', color='tab:grey', ha='right', va='top', rotation=90, transform=ax.get_xaxis_transform())\n",
    "\n",
    "# Season:\n",
    "ax.axvline(4/(365*24*60*60), color=\"tab:grey\", ls=\"dashed\")\n",
    "ax.text(4/(365*24*60*60), 0.99, 'season', color='tab:grey', ha='right', va='top', rotation=90, transform=ax.get_xaxis_transform())\n",
    "\n",
    "# Year:\n",
    "ax.axvline(1/(365*24*60*60), color=\"tab:grey\", ls=\"dashed\")\n",
    "ax.text(1/(365*24*60*60), 0.99, 'year', color='tab:grey', ha='right', va='top', rotation=90, transform=ax.get_xaxis_transform())\n",
    "\n",
    "# Spectrum:\n",
    "fft_mean = np.mean(abs(fft_t2m), axis=1)\n",
    "fft_std = np.std(abs(fft_t2m), axis=1)\n",
    "ax.plot(freq[mask], fft_mean[mask])\n",
    "ax.fill_between(freq[mask], (fft_mean - fft_std)[mask], (fft_mean + fft_std)[mask], alpha=0.5)\n",
    "\n",
    "ax.set_xscale('log')\n",
    "ax.set_yscale('log')\n",
    "ax.set(xlabel=\"Frequency / Hz\", ylabel=\"Magnitude\", title=\"T2M\")\n",
    "plt.show()"
   ]
  },
  {
   "cell_type": "code",
   "execution_count": null,
   "metadata": {},
   "outputs": [],
   "source": [
    "fig, ax = plt.subplots()\n",
    "fig.tight_layout()\n",
    "\n",
    "# Day:\n",
    "ax.axvline(1/(24*60*60), color=\"tab:grey\", ls=\"dashed\")\n",
    "ax.text(1/(24*60*60), 0.99, 'day', color='tab:grey', ha='right', va='top', rotation=90, transform=ax.get_xaxis_transform())\n",
    "\n",
    "# Month:\n",
    "ax.axvline(1/(30*24*60*60), color=\"tab:grey\", ls=\"dashed\")\n",
    "ax.text(1/(30*24*60*60), 0.99, 'month', color='tab:grey', ha='right', va='top', rotation=90, transform=ax.get_xaxis_transform())\n",
    "\n",
    "# Season:\n",
    "ax.axvline(4/(365*24*60*60), color=\"tab:grey\", ls=\"dashed\")\n",
    "ax.text(4/(365*24*60*60), 0.99, 'season', color='tab:grey', ha='right', va='top', rotation=90, transform=ax.get_xaxis_transform())\n",
    "\n",
    "# Year:\n",
    "ax.axvline(1/(365*24*60*60), color=\"tab:grey\", ls=\"dashed\")\n",
    "ax.text(1/(365*24*60*60), 0.99, 'year', color='tab:grey', ha='right', va='top', rotation=90, transform=ax.get_xaxis_transform())\n",
    "\n",
    "# Spectrum:\n",
    "fft_mean = np.mean(abs(fft_gpp), axis=1)\n",
    "fft_std = np.std(abs(fft_gpp), axis=1)\n",
    "ax.plot(freq[mask], fft_mean[mask])\n",
    "ax.fill_between(freq[mask], (fft_mean - fft_std)[mask], (fft_mean + fft_std)[mask], alpha=0.5)\n",
    "\n",
    "ax.set_xscale('log')\n",
    "ax.set_yscale('log')\n",
    "ax.set(xlabel=\"Frequency / Hz\", ylabel=\"Magnitude\", title=\"aco2gpp\")\n",
    "plt.show()"
   ]
  },
  {
   "cell_type": "code",
   "execution_count": null,
   "metadata": {},
   "outputs": [],
   "source": []
  }
 ],
 "metadata": {
  "kernelspec": {
   "display_name": "Python 3",
   "language": "python",
   "name": "python3"
  },
  "language_info": {
   "codemirror_mode": {
    "name": "ipython",
    "version": 3
   },
   "file_extension": ".py",
   "mimetype": "text/x-python",
   "name": "python",
   "nbconvert_exporter": "python",
   "pygments_lexer": "ipython3",
   "version": "3.12.3"
  }
 },
 "nbformat": 4,
 "nbformat_minor": 2
}
