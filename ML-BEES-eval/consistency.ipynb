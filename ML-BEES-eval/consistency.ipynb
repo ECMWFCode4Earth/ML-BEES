{
 "cells": [
  {
   "cell_type": "markdown",
   "metadata": {},
   "source": [
    "This notebook contains some consistency checks. Using the bias as an example, outliers in terms of especially high and low bias are plotted. One plot contains a map of the domain to see if the outliers are concentrated on a specific region. In another plot, time series of these special grid points are plotted to get a feeling for what is going on."
   ]
  },
  {
   "cell_type": "code",
   "execution_count": null,
   "metadata": {},
   "outputs": [],
   "source": [
    "import numpy as np\n",
    "import xarray as xr\n",
    "\n",
    "from eval_utilities import spatial_temporal_metrics as stm\n",
    "from eval_utilities import visualization as vis\n",
    "import matplotlib.pyplot as plt"
   ]
  },
  {
   "cell_type": "markdown",
   "metadata": {},
   "source": [
    "# Load Configuration"
   ]
  },
  {
   "cell_type": "code",
   "execution_count": null,
   "metadata": {},
   "outputs": [],
   "source": [
    "import yaml\n",
    "with open(f\"config.yaml\") as stream:\n",
    "    try:\n",
    "        CONFIG = yaml.safe_load(stream)\n",
    "    except yaml.YAMLError as exc:\n",
    "        print(exc)"
   ]
  },
  {
   "cell_type": "code",
   "execution_count": null,
   "metadata": {},
   "outputs": [],
   "source": [
    "ds_ref = xr.open_zarr(CONFIG[\"path_ec_euro\"]).sel(time=slice(\"2021-01-01T00\", \"2022-11-30T00\"))\n",
    "ds_xgb = xr.open_zarr(CONFIG[\"inf_paths\"][\"xgb_v3\"]).sel(time=slice(\"2021-01-01T00\", \"2022-11-30T00\"))\n",
    "ds_mlp = xr.open_zarr(CONFIG[\"inf_paths\"][\"mlp_v3\"]).sel(time=slice(\"2021-01-01T00\", \"2022-11-30T00\"))\n",
    "ds_ump = xr.open_zarr(CONFIG[\"inf_paths\"][\"unimp_v3\"]).sel(time=slice(\"2021-01-01T00\", \"2022-11-30T00\"))\n",
    "ds_mlpobs = xr.open_zarr(CONFIG[\"inf_paths\"][\"mlp_obs_v2\"]).sel(time=slice(\"2021-01-01T00\", \"2022-11-30T00\"))"
   ]
  },
  {
   "cell_type": "markdown",
   "metadata": {},
   "source": [
    "# Bias"
   ]
  },
  {
   "cell_type": "code",
   "execution_count": null,
   "metadata": {},
   "outputs": [],
   "source": [
    "bias_xgb = xr.open_zarr(CONFIG[\"eval_paths\"][\"xgb_v3\"] + \"/spatial/bias.zarr\")\n",
    "bias_mlp = xr.open_zarr(CONFIG[\"eval_paths\"][\"mlp_v1\"] + \"/spatial/bias.zarr\")\n",
    "bias_ump = xr.open_zarr(CONFIG[\"eval_paths\"][\"unimp_v1\"] + \"/spatial/bias.zarr\")\n",
    "bias_mlpobs = xr.open_zarr(CONFIG[\"eval_paths\"][\"mlp_obs_v2\"] + \"/spatial/bias.zarr\")"
   ]
  },
  {
   "cell_type": "code",
   "execution_count": null,
   "metadata": {},
   "outputs": [],
   "source": [
    "#var = \"swvl1\"\n",
    "var = \"stl1\"\n",
    "#var = \"snowc\"\n",
    "#var = \"e\""
   ]
  },
  {
   "cell_type": "code",
   "execution_count": null,
   "metadata": {},
   "outputs": [],
   "source": [
    "def plot_bias(ds_bias, var, title):\n",
    "    fig, ax = plt.subplots(figsize=(12, 6))\n",
    "    ax.set(title=f\"Bias {var}\")\n",
    "\n",
    "    vmin = np.nanpercentile(ds_bias.sel(variable=var).data, 1, axis=0)\n",
    "    vmax = np.nanpercentile(ds_bias.sel(variable=var).data, 99, axis=0)\n",
    "    im = ax.scatter(ds_bias[\"lon\"], ds_bias[\"lat\"], c=ds_bias.sel(variable=var).data, s=10, vmin=vmin, vmax=vmax)\n",
    "    fig.colorbar(im)\n",
    "    ax.set(title=title)\n",
    "\n",
    "    plt.show()\n",
    "\n",
    "#plot_bias(bias_xgb, var, f\"{var} bias for xgb\")\n",
    "#plot_bias(bias_mlp, var, f\"{var} bias for mlp\")\n",
    "#plot_bias(bias_ump, var, f\"{var} bias for unimp\")\n",
    "plot_bias(bias_mlpobs, var, f\"{var} bias for mlp_obs_v2\")"
   ]
  },
  {
   "cell_type": "code",
   "execution_count": null,
   "metadata": {},
   "outputs": [],
   "source": [
    "def plot_comp(ds_bias, varname, data_comp, comp_varname, title):\n",
    "    fig, axs = plt.subplots(1, 2, figsize=(12, 6))\n",
    "    fig.suptitle(title)\n",
    "\n",
    "    axs[0].set(title=f\"{comp_varname}\")\n",
    "    im = axs[0].scatter(ds_ref[\"lon\"], ds_ref[\"lat\"], c=data_comp, s=10)\n",
    "    fig.colorbar(im, ax=axs[0], label=comp_varname, orientation=\"horizontal\")\n",
    "\n",
    "    axs[1].set(title=f\"Bias {var}\")\n",
    "    vmin = np.nanpercentile(ds_bias.sel(variable=varname).data, 1, axis=0)\n",
    "    vmax = np.nanpercentile(ds_bias.sel(variable=varname).data, 99, axis=0)\n",
    "    im = axs[1].scatter(ds_bias[\"lon\"], ds_bias[\"lat\"], c=ds_bias.sel(variable=varname).data, s=10, vmin=vmin, vmax=vmax)\n",
    "    fig.colorbar(im, ax=axs[1], label=\"Bias in K\", orientation=\"horizontal\")\n",
    "\n",
    "    plt.show()"
   ]
  },
  {
   "cell_type": "code",
   "execution_count": null,
   "metadata": {},
   "outputs": [],
   "source": [
    "plot_comp(bias_ump, varname=var, data_comp=ds_ref.sel(clim_variable=\"clim_clake\").clim_data, comp_varname=\"clim_clake\", title=f\"Bias of {var} in UNIMP compared to lake cover\")"
   ]
  },
  {
   "cell_type": "code",
   "execution_count": null,
   "metadata": {},
   "outputs": [],
   "source": [
    "plot_bias(bias_ump.where(ds_ref.sel(clim_variable=\"clim_clake\").clim_data < 0.5), var=var, title=f\"{var} bias in UNIMP without Lake Cover > 50%\")"
   ]
  },
  {
   "cell_type": "code",
   "execution_count": null,
   "metadata": {},
   "outputs": [],
   "source": [
    "i = 5847 # Küste beim Asowschen Meer\n",
    "lat, lon = ds_ref.sel(variable=var).isel(x=i)[\"lat\"].values, ds_ref.sel(variable=var).isel(x=i)[\"lon\"].values\n",
    "\n",
    "plt.plot(ds_ref[\"time\"], ds_ref.sel(variable=var).isel(x=i).data)\n",
    "plt.plot(ds_ump[\"time\"], ds_ump.sel(variable=var).isel(x=i).data)\n",
    "plt.title(f\"GP (i_x={i}) @ ({lat:.2f},{lon:.2f})\")\n",
    "plt.xlabel(\"stl1\")\n",
    "plt.show()"
   ]
  },
  {
   "cell_type": "code",
   "execution_count": null,
   "metadata": {},
   "outputs": [],
   "source": [
    "i = 5850 # im Asowschen Meer\n",
    "lat, lon = ds_ref.sel(variable=var).isel(x=i)[\"lat\"].values, ds_ref.sel(variable=var).isel(x=i)[\"lon\"].values\n",
    "\n",
    "plt.plot(ds_ref[\"time\"], ds_ref.sel(variable=var).isel(x=i).data)\n",
    "plt.plot(ds_ump[\"time\"], ds_ump.sel(variable=var).isel(x=i).data)\n",
    "plt.title(f\"GP (i_x={i}) @ ({lat:.2f},{lon:.2f})\")\n",
    "plt.xlabel(\"stl1\")\n",
    "plt.show()"
   ]
  },
  {
   "cell_type": "code",
   "execution_count": null,
   "metadata": {},
   "outputs": [],
   "source": [
    "plot_comp(bias_mlp, \n",
    "          varname=var, \n",
    "          data_comp=ds_mlp.sel(variable=\"snowc\").data.std(dim=\"time\"), \n",
    "          comp_varname=\"mean snowc in mlp\", \n",
    "          title=f\"Bias of {var} in MLP compared to mean snowc\")"
   ]
  },
  {
   "cell_type": "code",
   "execution_count": null,
   "metadata": {},
   "outputs": [],
   "source": [
    "plot_comp(bias_mlp, \n",
    "          varname=var, \n",
    "          data_comp=ds_ref.sel(clim_variable=\"clim_geopot\").clim_data, \n",
    "          comp_varname=\"geopotential\", \n",
    "          title=f\"Bias of {var} in MLP compared to mean snowc\")"
   ]
  },
  {
   "cell_type": "code",
   "execution_count": null,
   "metadata": {},
   "outputs": [],
   "source": [
    "plot_comp(bias_mlp, \n",
    "          varname=var, \n",
    "          data_comp=ds_ref.sel(clim_variable=\"clim_sotype\").clim_data, \n",
    "          comp_varname=\"soiltype\", \n",
    "          title=f\"Bias of {var} in MLP compared to mean snowc\")"
   ]
  },
  {
   "cell_type": "markdown",
   "metadata": {},
   "source": [
    "# RMSE"
   ]
  },
  {
   "cell_type": "code",
   "execution_count": null,
   "metadata": {},
   "outputs": [],
   "source": [
    "rmse_xgb = xr.open_zarr(fnames[\"xgb_v3\"] + \"/spatial/rmse.zarr\")\n",
    "rmse_mlp = xr.open_zarr(fnames[\"mlp_v1\"] + \"/spatial/rmse.zarr\")\n",
    "rmse_ump = xr.open_zarr(fnames[\"unimp_v1\"] + \"/spatial/rmse.zarr\")"
   ]
  },
  {
   "cell_type": "code",
   "execution_count": null,
   "metadata": {},
   "outputs": [],
   "source": [
    "var = \"stl1\""
   ]
  },
  {
   "cell_type": "code",
   "execution_count": null,
   "metadata": {},
   "outputs": [],
   "source": [
    "def plot_rmse(ds_rmse, var, title):\n",
    "    fig, ax = plt.subplots(figsize=(12, 6))\n",
    "    ax.set(title=f\"RMSE {var}\")\n",
    "\n",
    "    vmin = np.nanpercentile(ds_rmse.sel(variable=var).data, 1, axis=0)\n",
    "    vmax = np.nanpercentile(ds_rmse.sel(variable=var).data, 99, axis=0)\n",
    "    im = ax.scatter(ds_rmse[\"lon\"], ds_rmse[\"lat\"], c=ds_rmse.sel(variable=var).data, s=10, vmin=vmin, vmax=vmax)\n",
    "    fig.colorbar(im)\n",
    "    ax.set(title=title)\n",
    "\n",
    "    plt.show()\n",
    "\n",
    "plot_bias(rmse_xgb, var, f\"{var} rmse for xgb\")\n",
    "plot_bias(rmse_mlp, var, f\"{var} rmse for mlp\")\n",
    "plot_bias(rmse_ump, var, f\"{var} rmse for unimp\")"
   ]
  },
  {
   "cell_type": "markdown",
   "metadata": {},
   "source": [
    "# Exceptional Grid Points"
   ]
  },
  {
   "cell_type": "code",
   "execution_count": null,
   "metadata": {},
   "outputs": [],
   "source": [
    "fig, ax = plt.subplots(figsize=(12, 6))\n",
    "\n",
    "l_p, u_p = 1, 99\n",
    "\n",
    "lower_perc = np.nanpercentile(ds_bias.sel(variable=var).data, l_p, axis=0)\n",
    "ax.axvline(lower_perc, color=\"tab:grey\", ls=\"dashed\")\n",
    "ax.text(lower_perc, 0.99, f\"{l_p}%\", color='tab:grey', ha='right', va='top', rotation=90, transform=ax.get_xaxis_transform())\n",
    "\n",
    "upper_perc = np.nanpercentile(ds_bias.sel(variable=var).data, u_p, axis=0)\n",
    "ax.axvline(upper_perc, color=\"tab:grey\", ls=\"dashed\")\n",
    "ax.text(upper_perc, 0.99, f\"{u_p}%\", color='tab:grey', ha='right', va='top', rotation=90, transform=ax.get_xaxis_transform())\n",
    "\n",
    "ax.hist(ds_bias.sel(variable=var).data, bins=100)\n",
    "plt.show()"
   ]
  },
  {
   "cell_type": "code",
   "execution_count": null,
   "metadata": {},
   "outputs": [],
   "source": [
    "ii_below = np.where(ds_bias.sel(variable=var).data < lower_perc)[0]\n",
    "ii_above = np.where(ds_bias.sel(variable=var).data > upper_perc)[0]"
   ]
  },
  {
   "cell_type": "code",
   "execution_count": null,
   "metadata": {},
   "outputs": [],
   "source": [
    "fig, ax = plt.subplots(figsize=(12, 6))\n",
    "ax.set(title=f\"Smoothed anomalies of {var} with high negative bias\")\n",
    "\n",
    "anomalies = ds_mod.sel(variable=var).data.isel(x=ii_below) - ds_ref.sel(variable=var).data.isel(x=ii_below)\n",
    "ax.plot(anomalies.rolling(time=7).mean()[\"time\"], anomalies.rolling(time=7).mean())\n",
    "\n",
    "plt.show()"
   ]
  },
  {
   "cell_type": "code",
   "execution_count": null,
   "metadata": {},
   "outputs": [],
   "source": [
    "fig, ax = plt.subplots(figsize=(12, 6))\n",
    "ax.set(title=f\"Smoothed anomalies of {var} with high positive bias\")\n",
    "\n",
    "anomalies = ds_mod.sel(variable=var).data.isel(x=ii_above) - ds_ref.sel(variable=var).data.isel(x=ii_above)\n",
    "ax.plot(anomalies.rolling(time=7).mean()[\"time\"], anomalies.rolling(time=7).mean())\n",
    "\n",
    "plt.show()"
   ]
  },
  {
   "cell_type": "code",
   "execution_count": null,
   "metadata": {},
   "outputs": [],
   "source": [
    "import cartopy.crs as ccrs\n",
    "import cartopy.feature as cfeature"
   ]
  },
  {
   "cell_type": "code",
   "execution_count": null,
   "metadata": {},
   "outputs": [],
   "source": [
    "fig, ax = plt.subplots(figsize=(10,4), subplot_kw={'projection': ccrs.PlateCarree()})\n",
    "\n",
    "ax.set_extent([ds_ref[\"lon\"].min(), ds_ref[\"lon\"].max(), \n",
    "               ds_ref[\"lat\"].min(), ds_ref[\"lat\"].max()], crs=ccrs.PlateCarree())\n",
    "\n",
    "ax.add_feature(cfeature.LAND)\n",
    "ax.add_feature(cfeature.OCEAN)\n",
    "ax.add_feature(cfeature.COASTLINE)\n",
    "ax.add_feature(cfeature.BORDERS, linestyle=':')\n",
    "\n",
    "ax.scatter(ds_ref.clim_data.isel(x=ii_above)[\"lon\"], \n",
    "           ds_ref.clim_data.isel(x=ii_above)[\"lat\"], \n",
    "           #c=ds_bias.data.sel(variable=var).isel(x=ii_above).values, \n",
    "           color=\"red\", marker=\"x\", s=80)\n",
    "\n",
    "plt.show()"
   ]
  },
  {
   "cell_type": "code",
   "execution_count": null,
   "metadata": {},
   "outputs": [],
   "source": [
    "i_worst = np.argmax(ds_bias.data.sel(variable=var).values)"
   ]
  },
  {
   "cell_type": "markdown",
   "metadata": {},
   "source": [
    "## Defect grid point in ECLand?"
   ]
  },
  {
   "cell_type": "code",
   "execution_count": null,
   "metadata": {},
   "outputs": [],
   "source": [
    "i = 2982"
   ]
  },
  {
   "cell_type": "code",
   "execution_count": null,
   "metadata": {},
   "outputs": [],
   "source": [
    "for var in np.intersect1d(ds_mod.variable, ds_ref.variable):\n",
    "    plt.plot(ds_ref.data.sel(variable=var).isel(x=i))\n",
    "    plt.title(f\"Variable {var}\")\n",
    "    plt.show()"
   ]
  }
 ],
 "metadata": {
  "kernelspec": {
   "display_name": "Python 3",
   "language": "python",
   "name": "python3"
  },
  "language_info": {
   "codemirror_mode": {
    "name": "ipython",
    "version": 3
   },
   "file_extension": ".py",
   "mimetype": "text/x-python",
   "name": "python",
   "nbconvert_exporter": "python",
   "pygments_lexer": "ipython3",
   "version": "3.12.3"
  }
 },
 "nbformat": 4,
 "nbformat_minor": 2
}
