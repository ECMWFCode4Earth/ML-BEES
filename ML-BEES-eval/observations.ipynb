{
 "cells": [
  {
   "cell_type": "code",
   "execution_count": null,
   "metadata": {},
   "outputs": [],
   "source": [
    "import os\n",
    "\n",
    "import numpy as np\n",
    "import xarray as xr\n",
    "\n",
    "from eval_utilities import spatial_temporal_metrics as stm\n",
    "from eval_utilities import visualization as vis\n",
    "import matplotlib.pyplot as plt"
   ]
  },
  {
   "cell_type": "markdown",
   "metadata": {},
   "source": [
    "# Load Configuration"
   ]
  },
  {
   "cell_type": "code",
   "execution_count": null,
   "metadata": {},
   "outputs": [],
   "source": [
    "import yaml\n",
    "with open(f\"config.yaml\") as stream:\n",
    "    try:\n",
    "        CONFIG = yaml.safe_load(stream)\n",
    "    except yaml.YAMLError as exc:\n",
    "        print(exc)"
   ]
  },
  {
   "cell_type": "code",
   "execution_count": null,
   "metadata": {},
   "outputs": [],
   "source": [
    "compute_metrics = True\n",
    "create_visualizations = True\n",
    "compute_scoreboard = False #no scoreboard yet\n",
    "\n",
    "eval_timespan = slice(\"2021-01-01T00\", \"2022-11-30T00\")"
   ]
  },
  {
   "cell_type": "markdown",
   "metadata": {},
   "source": [
    "# Load Reference Data Sets"
   ]
  },
  {
   "cell_type": "markdown",
   "metadata": {},
   "source": [
    "The MODIS and SMAP data need to be brought into the right format to work with our modules."
   ]
  },
  {
   "cell_type": "code",
   "execution_count": null,
   "metadata": {},
   "outputs": [],
   "source": [
    "ds_ref = xr.open_zarr(CONFIG[\"path_ec_euro\"])\n",
    "\n",
    "# MODIS\n",
    "ds = xr.open_zarr(\"/data/ch23/data_ch23/modis_temp_interp.zarr\")\n",
    "ds_modis = xr.DataArray(\n",
    "    data = ds[\"modis_temp\"].data[:,:,np.newaxis],\n",
    "    coords = {\"x\":ds[\"x\"], \"time\":ds[\"time\"], \"variable\":[\"skt\"]},\n",
    "    dims = [\"time\", \"x\", \"variable\"],\n",
    "    name = \"data\"\n",
    ")\n",
    "ds_modis = ds_modis.assign_coords(lon=(\"x\", ds_ref[\"lon\"].data))\n",
    "ds_modis = ds_modis.assign_coords(lat=(\"x\", ds_ref[\"lat\"].data))\n",
    "ds_modis = ds_modis.to_dataset()\n",
    "ds_modis = ds_modis.dropna(dim=\"time\", how=\"all\")\n",
    "\n",
    "# SMAP\n",
    "ds = xr.open_zarr(\"/data/ch23/data_ch23/smap_sm_interp.zarr\")\n",
    "ds_smap = xr.DataArray(\n",
    "    data = ds[\"smap_sm\"].data[:,:,np.newaxis],\n",
    "    coords = {\"x\":ds[\"x\"], \"time\":ds[\"time\"], \"variable\":[\"swvl1\"]},\n",
    "    dims = [\"time\", \"x\", \"variable\"],\n",
    "    name = \"data\"\n",
    ")\n",
    "ds_smap = ds_smap.assign_coords(lon=(\"x\", ds_ref[\"lon\"].data))\n",
    "ds_smap = ds_smap.assign_coords(lat=(\"x\", ds_ref[\"lat\"].data))\n",
    "ds_smap = ds_smap.to_dataset()\n",
    "ds_smap = ds_smap.dropna(dim=\"time\", how=\"all\")"
   ]
  },
  {
   "cell_type": "code",
   "execution_count": null,
   "metadata": {},
   "outputs": [],
   "source": [
    "inf_paths = CONFIG[\"inf_paths\"]\n",
    "eval_paths = CONFIG[\"eval_paths\"]\n",
    "\n",
    "weights = {\"swvl1\": ds_ref.clim_data.sel(clim_variable=\"clim_theta_cap\"), #use field capacity to emphasize potentially moist grid points\n",
    "           \"skt\": None}"
   ]
  },
  {
   "cell_type": "code",
   "execution_count": null,
   "metadata": {},
   "outputs": [],
   "source": [
    "def eval_helper(func, ds_mod, path, relative=False):\n",
    "    # MODIS\n",
    "    dts = np.intersect1d(ds_modis[\"time\"], ds_mod[\"time\"])\n",
    "    if \"skt\" in ds_mod[\"variable\"]:\n",
    "        if relative:\n",
    "            result_modis = func(ds_mod.sel(time=dts), ds_modis.sel(time=dts), vars=[\"skt\"], relative=True).to_dataset(name='data')\n",
    "        else:\n",
    "            result_modis = func(ds_mod.sel(time=dts), ds_modis.sel(time=dts), vars=[\"skt\"]).to_dataset(name='data')\n",
    "\n",
    "    # SMAP\n",
    "    dts = np.intersect1d(ds_smap[\"time\"], ds_mod[\"time\"])\n",
    "    if \"swvl1\" in ds_mod[\"variable\"]:\n",
    "        if relative:\n",
    "            result_smap = func(ds_mod.sel(time=dts), ds_smap.sel(time=dts), vars=[\"swvl1\"], relative=True).to_dataset(name='data')\n",
    "        else:\n",
    "            result_smap = func(ds_mod.sel(time=dts), ds_smap.sel(time=dts), vars=[\"swvl1\"]).to_dataset(name='data')\n",
    "\n",
    "    xr.concat((result_smap, result_modis), dim=\"variable\").to_zarr(path, mode='w')"
   ]
  },
  {
   "cell_type": "markdown",
   "metadata": {},
   "source": [
    "## ECLand"
   ]
  },
  {
   "cell_type": "code",
   "execution_count": null,
   "metadata": {},
   "outputs": [],
   "source": [
    "path = \"/data/ch23/evalution_results/ecland/observations/\"\n",
    "path_vis = \"/data/ch23/evalution_results/ecland/visualization/observations/\"\n",
    "\n",
    "if True:\n",
    "    # Compute and store metrics:\n",
    "    \n",
    "    ds_mod = ds_ref\n",
    "    ds_mod[\"variable\"] = ds_mod[\"variable\"].astype(\"str\") #some weird xarray bug caused by \"variable\" (https://github.com/pydata/xarray/issues/3476)\n",
    "    ds_mod = ds_mod.chunk({'time': 4, 'x': 10051, 'variable': 17})\n",
    "\n",
    "    if not os.path.exists(path):\n",
    "        os.makedirs(path)\n",
    "\n",
    "    # Bias\n",
    "    eval_helper(stm.bias, ds_mod, path + \"bias.zarr\", relative=False)\n",
    "    \n",
    "    # Bias (relative)\n",
    "    eval_helper(stm.bias, ds_mod, path + \"nor_bias.zarr\", relative=True)\n",
    "\n",
    "    # RMSE\n",
    "    eval_helper(stm.rmse, ds_mod, path + \"rmse.zarr\", relative=False)\n",
    "\n",
    "    # RMSE (relative)\n",
    "    eval_helper(stm.rmse, ds_mod, path + \"nor_rmse.zarr\", relative=True)\n",
    "\n",
    "    # ACC\n",
    "    eval_helper(stm.acc, ds_mod, path + \"acc.zarr\", relative=False)\n",
    "\n",
    "\n",
    "if create_visualizations:\n",
    "    # Visualization:\n",
    "    if not os.path.exists(path_vis):\n",
    "            os.makedirs(path_vis)\n",
    "\n",
    "    # Bias\n",
    "    bias = xr.open_zarr(path + \"bias.zarr\")\n",
    "    for var in bias.variable.values:\n",
    "            vis.vis_zarr_map(bias, var, path_vis + 'bias', 1, 99)\n",
    "\n",
    "    # Normalized bias\n",
    "    nor_bias = xr.open_zarr(path + \"nor_bias.zarr\")\n",
    "    for var in nor_bias.variable.values:\n",
    "            vis.vis_zarr_map(nor_bias, var, path_vis + 'nor_bias', 1, 99)  \n",
    "\n",
    "    # RMSE\n",
    "    rmse = xr.open_zarr(path + \"rmse.zarr\")\n",
    "    for var in rmse.variable.values:\n",
    "            vis.vis_zarr_map(rmse, var, path_vis + 'rmse', 1, 99)\n",
    "\n",
    "    # Normalized RMSE\n",
    "    nor_rmse = xr.open_zarr(path + \"nor_rmse.zarr\")\n",
    "    for var in nor_rmse.variable.values:\n",
    "            vis.vis_zarr_map(nor_rmse, var, path_vis + 'nor_rmse', 1, 99)  \n",
    "\n",
    "    # ACC\n",
    "    acc = xr.open_zarr(path + \"acc.zarr\")\n",
    "    for var in acc.variable.values:\n",
    "            vis.vis_zarr_map(acc, var, path_vis + 'acc', 1, 99)\n"
   ]
  },
  {
   "cell_type": "markdown",
   "metadata": {},
   "source": [
    "## Emulators"
   ]
  },
  {
   "cell_type": "code",
   "execution_count": null,
   "metadata": {},
   "outputs": [],
   "source": [
    "for model in [\"ecland\"] + list(inf_paths.keys()):    \n",
    "    path = eval_paths[model] + '/observations/'\n",
    "    path_vis = eval_paths[model] + '/visualization/observations/'\n",
    "\n",
    "    if compute_metrics:\n",
    "        # Compute and store metrics:\n",
    "\n",
    "        ds_mod = xr.open_zarr(inf_paths[model])\n",
    "        ds_mod = ds_mod.chunk({'time': 4, 'x': 10051, 'variable': 17})\n",
    "            \n",
    "        if not os.path.exists(path):\n",
    "            os.makedirs(path)\n",
    "\n",
    "        # Bias\n",
    "        eval_helper(stm.bias, ds_mod, path + \"bias.zarr\", relative=False)\n",
    "        \n",
    "        # Bias (relative)\n",
    "        eval_helper(stm.bias, ds_mod, path + \"nor_bias.zarr\", relative=True)\n",
    "\n",
    "        # RMSE\n",
    "        eval_helper(stm.rmse, ds_mod, path + \"rmse.zarr\", relative=False)\n",
    "\n",
    "        # RMSE (relative)\n",
    "        eval_helper(stm.rmse, ds_mod, path + \"nor_rmse.zarr\", relative=True)\n",
    "\n",
    "        # ACC\n",
    "        eval_helper(stm.acc, ds_mod, path + \"acc.zarr\", relative=False)\n",
    "\n",
    "        \n",
    "    if create_visualizations:\n",
    "        # Visualization:\n",
    "        if not os.path.exists(path_vis):\n",
    "            os.makedirs(path_vis)\n",
    "        \n",
    "        # Bias\n",
    "        bias = xr.open_zarr(path + \"bias.zarr\")\n",
    "        for var in bias.variable.values:\n",
    "            vis.vis_zarr_map(bias, var, path_vis + 'bias', 1, 99)\n",
    "        \n",
    "        # Normalized bias\n",
    "        nor_bias = xr.open_zarr(path + \"nor_bias.zarr\")\n",
    "        for var in nor_bias.variable.values:\n",
    "            vis.vis_zarr_map(nor_bias, var, path_vis + 'nor_bias', 1, 99)  \n",
    "        \n",
    "        # RMSE\n",
    "        rmse = xr.open_zarr(path + \"rmse.zarr\")\n",
    "        for var in rmse.variable.values:\n",
    "            vis.vis_zarr_map(rmse, var, path_vis + 'rmse', 1, 99)\n",
    "\n",
    "        # Normalized RMSE\n",
    "        nor_rmse = xr.open_zarr(path + \"nor_rmse.zarr\")\n",
    "        for var in nor_rmse.variable.values:\n",
    "            vis.vis_zarr_map(nor_rmse, var, path_vis + 'nor_rmse', 1, 99)  \n",
    "\n",
    "        # ACC\n",
    "        acc = xr.open_zarr(path + \"acc.zarr\")\n",
    "        for var in acc.variable.values:\n",
    "            vis.vis_zarr_map(acc, var, path_vis + 'acc', 1, 99)"
   ]
  },
  {
   "cell_type": "code",
   "execution_count": null,
   "metadata": {},
   "outputs": [],
   "source": []
  }
 ],
 "metadata": {
  "kernelspec": {
   "display_name": "Python 3",
   "language": "python",
   "name": "python3"
  },
  "language_info": {
   "codemirror_mode": {
    "name": "ipython",
    "version": 3
   },
   "file_extension": ".py",
   "mimetype": "text/x-python",
   "name": "python",
   "nbconvert_exporter": "python",
   "pygments_lexer": "ipython3",
   "version": "3.12.3"
  }
 },
 "nbformat": 4,
 "nbformat_minor": 2
}
