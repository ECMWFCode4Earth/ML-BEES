{
 "cells": [
  {
   "cell_type": "markdown",
   "metadata": {},
   "source": [
    "# Training XGBoost to Emulate ec-land\n",
    "\n",
    "In this notebook we take some example Zarr data (similar to that created by this projects other functionality) and train an ML emulator of the ec-land land surface model. Here we are training on features of climatological, meteorological and previous model state values to predict the 6-hourly model state update "
   ]
  },
  {
   "cell_type": "code",
   "execution_count": 1,
   "metadata": {
    "tags": []
   },
   "source": [
    "import xarray as xr\n",
    "import xgboost as xgb\n",
    "import numpy as np\n",
    "import matplotlib.pyplot as plt\n",
    "from sklearn.model_selection import train_test_split\n",
    "from sklearn.metrics import r2_score, mean_absolute_percentage_error, mean_absolute_error\n",
    "\n",
    "\n",
    "def r2_score_multi(y_pred: np.ndarray, y_true: np.ndarray) -> float:\n",
    "    \"\"\"Calculated the r-squared score between 2 arrays of values\n",
    "\n",
    "    :param y_pred: predicted array\n",
    "    :param y_true: \"truth\" array\n",
    "    :return: r-squared metric\n",
    "    \"\"\"\n",
    "    return r2_score(y_pred.flatten(), y_true.flatten())"
   ],
   "outputs": []
  },
  {
   "cell_type": "markdown",
   "metadata": {},
   "source": [
    "Open up the mock data zarr file and select a couple of years for training the ML model..."
   ]
  },
  {
   "cell_type": "code",
   "execution_count": 2,
   "metadata": {
    "tags": []
   },
   "source": [
    "# Open up the Zarr data\n",
    "ds_ecland = xr.open_zarr(\"/data/ecland_i6aj_o400_2010_2022_6h_euro.zarr\").sel(time=slice(\"2018\", \"2020\"))\n",
    "# Inspect the concatenated dataset and see available model variables\n",
    "ds_ecland"
   ],
   "outputs": []
  },
  {
   "cell_type": "markdown",
   "metadata": {},
   "source": [
    "Next we select the \"features\" and \"targets\" that we want to use to use in the construction of our ML model. The we select this subset of variables from the dataset"
   ]
  },
  {
   "cell_type": "code",
   "execution_count": 3,
   "metadata": {
    "tags": []
   },
   "source": [
    "clim_feat_lst = ['clim_clake',\n",
    "            'clim_ctype',\n",
    "            'clim_landsea',\n",
    "            'clim_cu',\n",
    "            'clim_cvh',\n",
    "            'clim_cvl',\n",
    "            'clim_geopot',\n",
    "            'clim_sdfor',\n",
    "            'clim_sdor',\n",
    "            # 'clim_sotype',\n",
    "            # 'clim_tvh',\n",
    "            # 'clim_tvl',\n",
    "            'clim_theta_cap',\n",
    "            'clim_theta_pwp',\n",
    "            'clim_veg_covh',\n",
    "            'clim_veg_covl',\n",
    "            'clim_veg_z0mh',\n",
    "            'clim_veg_z0ml',\n",
    "            'clim_veg_rsminh',\n",
    "            'clim_veg_rsminl']\n",
    "\n",
    "\n",
    "feat_lst = ['lai_hv', \n",
    "            'lai_lv', \n",
    "            'met_ctpf',\n",
    "            'met_lwdown',\n",
    "            'met_psurf',\n",
    "            'met_qair',\n",
    "            'met_rainf',\n",
    "            'met_swdown',\n",
    "            'met_snowf',\n",
    "            'met_tair',\n",
    "            'met_wind_e',\n",
    "            'met_wind_n',\n",
    "            'swvl1',\n",
    "            'swvl2',\n",
    "            'swvl3',\n",
    "            'stl1',\n",
    "            'stl2',\n",
    "            'stl3',\n",
    "            'snowc',\n",
    "           ]\n",
    "\n",
    "targ_lst = ['swvl1',\n",
    "            'swvl2',\n",
    "            'swvl3',\n",
    "            'stl1',\n",
    "            'stl2',\n",
    "            'stl3',\n",
    "            'snowc',\n",
    "           ]\n",
    "\n",
    "# Shift the times of the features/targets so that from the previous state we are predicting the next state\n",
    "clim_feats_ds = (ds_ecland.sel(clim_variable=clim_feat_lst).clim_data\n",
    "                 .expand_dims(time=ds_ecland.time)\n",
    "                 .isel(time=slice(0,-1))\n",
    "                 .stack(z=(\"x\", \"time\",))\n",
    "                 .transpose()\n",
    "                 .rename({\"clim_variable\": \"variable\"})\n",
    ")\n",
    "feats_ds = ds_ecland.sel(variable=feat_lst).isel(time=slice(0,-1)).data.stack(z=(\"x\", \"time\",)).transpose()\n",
    "target_ds = ds_ecland.sel(variable=targ_lst).data\n",
    "\n",
    "# Select the desired variables, convert to an array, stack the 'time' and 'space' dimensions. \n",
    "# For the targets we minus the previous value of the model state so that we are predicting \n",
    "# the 6-hourly model update increments instead of the next absolutle model value.\n",
    "feats_ds = xr.concat((clim_feats_ds, feats_ds), dim=\"variable\").chunk({\"variable\": -1})\n",
    "target_ds = target_ds.isel(time=slice(1,None)).stack(z=(\"x\", \"time\",)).transpose() - target_ds.isel(time=slice(0,-1)).stack(z=(\"x\", \"time\",)).values.T"
   ],
   "outputs": []
  },
  {
   "cell_type": "code",
   "execution_count": 4,
   "metadata": {
    "tags": []
   },
   "source": [
    "# inspect the feautre dataset\n",
    "feats_ds"
   ],
   "outputs": []
  },
  {
   "cell_type": "markdown",
   "metadata": {},
   "source": [
    "## Model training with XGBoost\n",
    "\n",
    "Now we have our \"features\" and \"targets\" we can train xgboost to predict our model increments."
   ]
  },
  {
   "cell_type": "code",
   "execution_count": 6,
   "metadata": {
    "tags": []
   },
   "source": [
    "%%time\n",
    "# Set feaures and targets\n",
    "X = feats_ds.values\n",
    "y = target_ds.values\n",
    "\n",
    "# Setup the xgboost model instance and choose some parameters to control the training\n",
    "model = xgb.XGBRegressor(\n",
    "    n_estimators=82,\n",
    "    tree_method=\"hist\",\n",
    "    device=\"cuda\",\n",
    "    # objevtive=mean_absolute_error,\n",
    "    # multi_strategy=\"multi_output_tree\",\n",
    "    # learning_rate=0.3,\n",
    "    eval_metric=r2_score_multi,\n",
    "    # subsample=0.6,\n",
    ")\n",
    "\n",
    "print(\"Fitting XGB model...\")\n",
    "model.fit(X, y, eval_set=[(X, y)])"
   ],
   "outputs": []
  },
  {
   "cell_type": "markdown",
   "metadata": {},
   "source": [
    "## Testing the newly trained emulator\n",
    "\n",
    "Now that we have our trained ML model we can test it against some independent data. We open up the ML training database and then apply the model over a complete three year period to test how well it performs. The last year here (2022) is completely independent having not been used in the training."
   ]
  },
  {
   "cell_type": "code",
   "execution_count": 6,
   "metadata": {
    "tags": []
   },
   "source": [
    "# Open the test data and select a single point in space to run the model on\n",
    "ds_test = xr.open_zarr(\"/data/ecland_i6aj_o400_2010_2022_6h_euro.zarr\").sel(time=slice(\"2018\", \"2022\"))\n",
    "\n",
    "clim_feats = (ds_test.sel(clim_variable=clim_feat_lst).clim_data\n",
    "                 .expand_dims(time=ds_test.time)\n",
    "                 .isel(x=5284, time=slice(0,-1))\n",
    "                 .rename({\"clim_variable\": \"variable\"})\n",
    ")\n",
    "feats = ds_test.sel(variable=feat_lst).isel(x=5284, time=slice(0,-1)).data\n",
    "\n",
    "feats = xr.concat((clim_feats, feats), dim=\"variable\")"
   ],
   "outputs": []
  },
  {
   "cell_type": "code",
   "execution_count": 7,
   "metadata": {
    "tags": []
   },
   "source": [
    "# Transform xr.Dataset into a np.ndarray\n",
    "feats_arr = feats.values"
   ],
   "outputs": []
  },
  {
   "cell_type": "code",
   "execution_count": 8,
   "metadata": {},
   "source": [
    "feats_arr.shape"
   ],
   "outputs": []
  },
  {
   "cell_type": "code",
   "execution_count": 9,
   "metadata": {
    "tags": []
   },
   "source": [
    "# Run the model for a single time to check it works and gives us the desired size output\n",
    "model.predict(feats_arr[[1]]).shape"
   ],
   "outputs": []
  },
  {
   "cell_type": "code",
   "execution_count": 10,
   "metadata": {
    "tags": []
   },
   "source": [
    "%%time\n",
    "# Loop over all times and iteratively apply the ML model to construct a 3-year ML estimate to the ec-land model\n",
    "for x in range(len(feats_arr)-1):\n",
    "    if x % 1000 == 0:\n",
    "        print(f\"on step {x}...\")\n",
    "    preds = model.predict(feats_arr[[x]])\n",
    "    # the testing starts from first time point of 2018, and take the prediction at last step as the next step input; the prediction at each step overlay the input(ecland output)\n",
    "    feats_arr[x+1, -len(targ_lst):] = np.clip(feats_arr[x, -len(targ_lst):] + preds, 0, None)"
   ],
   "outputs": []
  },
  {
   "cell_type": "markdown",
   "metadata": {},
   "source": [
    "## Plotting the results\n",
    "\n",
    "Now we have 3-year's of output from the ec-land model and from our ML emulator, \"ai-land\", we can plot both trajectories to see how the ML model performs. As it has been trained on the first 2-years we expect it to fit here. However, the final year was left out of training and so is independent, we see the ML model still performs very well even in this independent year. \n",
    "\n",
    "It is also worth noting that here we have performed a complete 3-year run with the \"ai-land\" model (~4300 applications) and we find very little compounding errors, allowing us to accurately capture the full ec-land climatology."
   ]
  },
  {
   "cell_type": "code",
   "execution_count": 11,
   "metadata": {
    "tags": []
   },
   "source": [
    "fig = plt.figure(figsize=(16,8))\n",
    "ax1 = plt.subplot(331)\n",
    "ax2 = plt.subplot(332)\n",
    "ax3 = plt.subplot(333)\n",
    "ax4 = plt.subplot(334)\n",
    "ax5 = plt.subplot(335)\n",
    "ax6 = plt.subplot(336)\n",
    "ax7 = plt.subplot(337)\n",
    "\n",
    "def ailand_plot(var_name, ax, ylabel, ax_title, test_date=\"2021-01-01\"):\n",
    "    \"\"\"Plotting function for the ec-land database and ai-land model output\n",
    "\n",
    "    :param var_name: parameter variable name\n",
    "    :param ax: the axes to plot on\n",
    "    :param ylabel: y-label for plot\n",
    "    :param ax_title: title for plot\n",
    "    :param test_date: date to plot vertical line (train/test split), defaults to \"2021-01-01\"\n",
    "    :return: plot axes\n",
    "    \"\"\"\n",
    "    feats.sel(variable=var_name).plot(label=\"ec-land\", ax=ax)\n",
    "    ax.plot(feats.time, feats_arr[:, (clim_feat_lst + feat_lst).index(var_name)], '--', label=\"ai-land\")\n",
    "    ax.axvline(feats.sel(time=test_date).time.values[0], color=\"k\", linestyle=\"--\")\n",
    "    ax.set_xlim(feats.time.values[[0,-1]])\n",
    "    ax.set_ylabel(ylabel)\n",
    "    ax.set_title(ax_title)\n",
    "    return ax\n",
    "\n",
    "ailand_plot(\"swvl1\", ax1, \"Soil Moisture (m3 m-3)\", \"Soil Moisture Layer 1\")\n",
    "ailand_plot(\"swvl2\", ax2, \"Soil Moisture (m3 m-3)\", \"Soil Moisture Layer 2\")\n",
    "ailand_plot(\"swvl3\", ax3, \"Soil Moisture (m3 m-3)\", \"Soil Moisture Layer 3\")\n",
    "ailand_plot(\"stl1\", ax4, \"Soil Temperature (K)\", \"Soil Temperature Layer 1\")\n",
    "ailand_plot(\"stl2\", ax5, \"Soil Temperature (K)\", \"Soil Temperature Layer 2\")\n",
    "ailand_plot(\"stl3\", ax6, \"Soil Temperature (K)\", \"Soil Temperature Layer 3\")\n",
    "ailand_plot(\"snowc\", ax7, \"Snow Cover Fraction (-)\", \"Snow Cover Fraction\")\n",
    "\n",
    "plt.legend()\n",
    "fig.suptitle(f\"ec/ai-land train-test comparison ({feats.lat.values: .2f} N, {feats.lon.values: .2f} E)\")\n",
    "fig.tight_layout()\n",
    "# fig.savefig(\"../docs/images/ec-ai-land_comp.png\", bbox_inches=\"tight\")"
   ],
   "outputs": []
  },
  {
   "cell_type": "code",
   "execution_count": 12,
   "metadata": {},
   "source": [
    "model.get_booster().feature_names = clim_feat_lst + feat_lst\n",
    "xgb.plot_importance(model)"
   ],
   "outputs": []
  },
  {
   "cell_type": "code",
   "execution_count": null,
   "metadata": {},
   "source": [],
   "outputs": []
  }
 ],
 "metadata": {
  "kernelspec": {
   "display_name": "ailand",
   "language": "python",
   "name": "ailand"
  },
  "language_info": {
   "codemirror_mode": {
    "name": "ipython",
    "version": 3
   },
   "file_extension": ".py",
   "mimetype": "text/x-python",
   "name": "python",
   "nbconvert_exporter": "python",
   "pygments_lexer": "ipython3",
   "version": "3.12.3"
  }
 },
 "nbformat": 4,
 "nbformat_minor": 4
}
